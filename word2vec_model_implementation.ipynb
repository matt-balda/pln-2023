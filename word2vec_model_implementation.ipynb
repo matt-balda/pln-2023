{
  "nbformat": 4,
  "nbformat_minor": 0,
  "metadata": {
    "colab": {
      "provenance": [],
      "authorship_tag": "ABX9TyOFsSaNvCV/liXkSfLEaJmh",
      "include_colab_link": true
    },
    "kernelspec": {
      "name": "python3",
      "display_name": "Python 3"
    },
    "language_info": {
      "name": "python"
    }
  },
  "cells": [
    {
      "cell_type": "markdown",
      "metadata": {
        "id": "view-in-github",
        "colab_type": "text"
      },
      "source": [
        "<a href=\"https://colab.research.google.com/github/matt-balda/pln-2023/blob/master/word2vec_model_implementation.ipynb\" target=\"_parent\"><img src=\"https://colab.research.google.com/assets/colab-badge.svg\" alt=\"Open In Colab\"/></a>"
      ]
    },
    {
      "cell_type": "code",
      "source": [
        "# !pip install -U spacy\n",
        "# !pip install -U pydantic\n",
        "# !python -m spacy download 'pt_core_news_sm'"
      ],
      "metadata": {
        "id": "COBdL3vr-E3A"
      },
      "execution_count": 103,
      "outputs": []
    },
    {
      "cell_type": "code",
      "source": [
        "import requests\n",
        "import pandas as pd\n",
        "import nltk\n",
        "from nltk.tokenize import word_tokenize, sent_tokenize\n",
        "from nltk.corpus import stopwords\n",
        "import spacy\n",
        "from gensim.models import Word2Vec\n",
        "from io import StringIO\n",
        "import matplotlib.pyplot as plt"
      ],
      "metadata": {
        "id": "FCEHbvutzUEi"
      },
      "execution_count": 104,
      "outputs": []
    },
    {
      "cell_type": "code",
      "source": [
        "nltk.download('punkt')\n",
        "nltk.download('stopwords')\n",
        "\n",
        "# nltk.download('rslp')\n",
        "# nlp = spacy.load('pt_core_news_sm')\n",
        "\n",
        "stop_words = set(stopwords.words('portuguese'))"
      ],
      "metadata": {
        "colab": {
          "base_uri": "https://localhost:8080/"
        },
        "id": "yd47pm8x01v8",
        "outputId": "9e208665-71ce-4a84-b1f9-dd72926f3dea"
      },
      "execution_count": 105,
      "outputs": [
        {
          "output_type": "stream",
          "name": "stderr",
          "text": [
            "[nltk_data] Downloading package punkt to /root/nltk_data...\n",
            "[nltk_data]   Package punkt is already up-to-date!\n",
            "[nltk_data] Downloading package stopwords to /root/nltk_data...\n",
            "[nltk_data]   Package stopwords is already up-to-date!\n"
          ]
        }
      ]
    },
    {
      "cell_type": "code",
      "source": [
        "url = \"https://raw.githubusercontent.com/franciellevargas/HateBR/main/dataset/HateBR.csv\"\n",
        "response = requests.get(url)\n",
        "csv_data = response.text"
      ],
      "metadata": {
        "id": "ClsK4xGTzdCV"
      },
      "execution_count": 106,
      "outputs": []
    },
    {
      "cell_type": "code",
      "source": [
        "column_names = [\"instagram_comments\", \"offensive_language\", \"offensiveness_levels\", \"hate_speech\"]\n",
        "df = pd.read_csv(StringIO(csv_data), header=None, names=column_names)"
      ],
      "metadata": {
        "id": "KeyD_U3c0IVe"
      },
      "execution_count": 107,
      "outputs": []
    },
    {
      "cell_type": "code",
      "source": [
        "print(df)"
      ],
      "metadata": {
        "colab": {
          "base_uri": "https://localhost:8080/"
        },
        "id": "XXRad2Nc0i1X",
        "outputId": "5dec0884-343f-4b96-a039-4000ba9bbf8a"
      },
      "execution_count": 108,
      "outputs": [
        {
          "output_type": "stream",
          "name": "stdout",
          "text": [
            "                                     instagram_comments  offensive_language  \\\n",
            "0                                    instagram_comments  offensive_language   \n",
            "1                                         este lixo ...                   1   \n",
            "2                                          Mais um lixo                   1   \n",
            "3                       Essa nao tem vergonha na cara!!                   1   \n",
            "4                        Essa mulher é doente.pilantra!                   1   \n",
            "...                                                 ...                 ...   \n",
            "6996                      Time perdendo a credibilidade                   0   \n",
            "6997  Siga em frente Presidente Bolsonaro! Afinal o ...                   0   \n",
            "6998  Tantas coisas importantes para resolver e fica...                   0   \n",
            "6999  A TIME escolhe quem eles quiser, isso não sign...                   0   \n",
            "7000  Hitler também foi considerado o homem do ano p...                   0   \n",
            "\n",
            "      offensiveness_levels  hate_speech  \n",
            "0     offensiveness_levels  hate_speech  \n",
            "1                        1           -1  \n",
            "2                        1           -1  \n",
            "3                        2           -1  \n",
            "4                        3           -1  \n",
            "...                    ...          ...  \n",
            "6996                     0            0  \n",
            "6997                     0            0  \n",
            "6998                     0            0  \n",
            "6999                     0            0  \n",
            "7000                     0            0  \n",
            "\n",
            "[7001 rows x 4 columns]\n"
          ]
        }
      ]
    },
    {
      "cell_type": "code",
      "source": [
        "def preprocess_text(text):\n",
        "    tokens = word_tokenize(text.lower())\n",
        "    filtered_tokens = [word for word in tokens if word.isalnum() and word not in stop_words]\n",
        "    return filtered_tokens"
      ],
      "metadata": {
        "id": "6ErR6fff0wCo"
      },
      "execution_count": 109,
      "outputs": []
    },
    {
      "cell_type": "code",
      "source": [
        "df['instagram_comments'] = df['instagram_comments'].apply(preprocess_text)"
      ],
      "metadata": {
        "id": "JeNUSSr_1EiB"
      },
      "execution_count": 110,
      "outputs": []
    },
    {
      "cell_type": "code",
      "source": [
        "model = Word2Vec(df['instagram_comments'], vector_size=100, window=5, min_count=1, sg=0)"
      ],
      "metadata": {
        "id": "2yKOF4F21sEp"
      },
      "execution_count": 111,
      "outputs": []
    },
    {
      "cell_type": "code",
      "source": [
        "model.save(\"word2vec_model\")"
      ],
      "metadata": {
        "id": "jpGe0tZS1w4W"
      },
      "execution_count": 112,
      "outputs": []
    },
    {
      "cell_type": "code",
      "source": [
        "word = input(str('Insira uma palavra: '))"
      ],
      "metadata": {
        "colab": {
          "base_uri": "https://localhost:8080/"
        },
        "id": "JsOE89xm13NG",
        "outputId": "88150de1-f153-473e-af24-1ac3988e3dd5"
      },
      "execution_count": 113,
      "outputs": [
        {
          "name": "stdout",
          "output_type": "stream",
          "text": [
            "Insira uma palavra: presidente\n"
          ]
        }
      ]
    },
    {
      "cell_type": "code",
      "source": [
        "word_vector = model.wv[word]"
      ],
      "metadata": {
        "id": "X0z1uogz2KWl"
      },
      "execution_count": 114,
      "outputs": []
    },
    {
      "cell_type": "code",
      "source": [
        "print(f\"Vetor da palavra '{word}':\")\n",
        "print(word_vector)"
      ],
      "metadata": {
        "colab": {
          "base_uri": "https://localhost:8080/"
        },
        "id": "Sjg3yHXRBV3u",
        "outputId": "1193ff5b-4142-4ca4-baeb-664296a84720"
      },
      "execution_count": 115,
      "outputs": [
        {
          "output_type": "stream",
          "name": "stdout",
          "text": [
            "Vetor da palavra 'presidente':\n",
            "[-0.09684467  0.16689591  0.061403    0.02771818  0.05076872 -0.32955575\n",
            "  0.06035765  0.4093277  -0.09382007 -0.04914742 -0.12867805 -0.3120353\n",
            " -0.03314633  0.09732172  0.05794705 -0.14597918 -0.00325575 -0.25610706\n",
            "  0.0595042  -0.36210397  0.149418    0.10217115  0.10662253 -0.1393187\n",
            " -0.03189869  0.02698861 -0.14560372 -0.14368568 -0.20990248  0.0474682\n",
            "  0.2299021   0.01887954  0.04285747 -0.15141183 -0.03453303  0.18129832\n",
            "  0.02195229 -0.16636759 -0.07163126 -0.33778992 -0.00403758 -0.17233424\n",
            " -0.09874285 -0.00098444  0.14447233 -0.03560561 -0.16300486 -0.08426696\n",
            "  0.12983684  0.14892085  0.1171281  -0.16771786 -0.05678635 -0.06602511\n",
            " -0.07508904  0.11746819  0.08673792 -0.01813086 -0.1535223   0.04367534\n",
            " -0.00420809 -0.02947967 -0.12207786  0.02048373 -0.19065872  0.20187889\n",
            "  0.0887523   0.12195686 -0.21806045  0.2724486  -0.12589005  0.13711628\n",
            "  0.25128475 -0.07958509  0.10280712  0.0623436   0.07336333 -0.02501391\n",
            " -0.13382673  0.1135925  -0.18393056 -0.09919842 -0.14635947  0.258409\n",
            " -0.07926112  0.02005032  0.0554115   0.23093922  0.22007331  0.12480434\n",
            "  0.2703362   0.14015055  0.06024137 -0.0148903   0.31546763  0.15480776\n",
            "  0.18369022 -0.15702376  0.01977325  0.00815926]\n"
          ]
        }
      ]
    },
    {
      "cell_type": "code",
      "source": [
        "similar_words = model.wv.most_similar(word, topn=10)\n",
        "print(f\"\\nPalavras similares a '{word}':\")\n",
        "for similar_word, score in similar_words:\n",
        "    print(f\"{similar_word}: {score:.4f}\")\n"
      ],
      "metadata": {
        "colab": {
          "base_uri": "https://localhost:8080/"
        },
        "id": "an8LTZJvBrjT",
        "outputId": "5f9f0529-897a-4f60-a160-6c2d040b45a2"
      },
      "execution_count": 116,
      "outputs": [
        {
          "output_type": "stream",
          "name": "stdout",
          "text": [
            "\n",
            "Palavras similares a 'presidente':\n",
            "povo: 0.9986\n",
            "pra: 0.9986\n",
            "ter: 0.9984\n",
            "q: 0.9983\n",
            "governo: 0.9983\n",
            "país: 0.9983\n",
            "brasil: 0.9983\n",
            "bolsonaro: 0.9983\n",
            "contra: 0.9983\n",
            "vai: 0.9983\n"
          ]
        }
      ]
    },
    {
      "cell_type": "code",
      "source": [
        "out_of_vocab_word = 'balda'\n",
        "if out_of_vocab_word not in model.wv.index_to_key:\n",
        "    print(f\"'{out_of_vocab_word}' não está no vocabulário do modelo.\")\n",
        "else:\n",
        "    print('Está no vacabulário do modelo.')"
      ],
      "metadata": {
        "colab": {
          "base_uri": "https://localhost:8080/"
        },
        "id": "HqxZxGH8B9ka",
        "outputId": "dc393b50-20e8-4702-a52f-1c360f429198"
      },
      "execution_count": 117,
      "outputs": [
        {
          "output_type": "stream",
          "name": "stdout",
          "text": [
            "'balda' não está no vocabulário do modelo.\n"
          ]
        }
      ]
    },
    {
      "cell_type": "code",
      "source": [
        "similarity = model.wv.similarity('politico', 'corrupcao')\n",
        "print(f\"Similaridade entre 'politico' e 'corrupcao': {similarity:.4f}\")"
      ],
      "metadata": {
        "colab": {
          "base_uri": "https://localhost:8080/"
        },
        "id": "JG7xgtHcCopM",
        "outputId": "91ba26a5-42f3-45c4-c96e-1f55f3483843"
      },
      "execution_count": 118,
      "outputs": [
        {
          "output_type": "stream",
          "name": "stdout",
          "text": [
            "Similaridade entre 'politico' e 'corrupcao': 0.0988\n"
          ]
        }
      ]
    },
    {
      "cell_type": "code",
      "source": [
        "most_similar_to_set = model.wv.most_similar_to_given('homem', ['pobre', 'feio'])\n",
        "print(f\"Palavra mais similar a 'homem' dentre 'pobre' e 'feio': {most_similar_to_set}\")"
      ],
      "metadata": {
        "colab": {
          "base_uri": "https://localhost:8080/"
        },
        "id": "zlN8TStEC9j6",
        "outputId": "f96d3d88-9bfb-4b0c-ee12-68205919e5bf"
      },
      "execution_count": 119,
      "outputs": [
        {
          "output_type": "stream",
          "name": "stdout",
          "text": [
            "Palavra mais similar a 'homem' dentre 'pobre' e 'feio': feio\n"
          ]
        }
      ]
    },
    {
      "cell_type": "code",
      "source": [
        "similar_words_df = pd.DataFrame(similar_words, columns=['Palavra', 'Similaridade'])\n",
        "\n",
        "plt.figure(figsize=(10, 6))\n",
        "plt.barh(similar_words_df['Palavra'], similar_words_df['Similaridade'], color='skyblue')\n",
        "plt.xlabel('Similaridade')\n",
        "plt.title(f'Palavras similares a \"{word}\"')\n",
        "plt.gca().invert_yaxis()\n",
        "plt.show()"
      ],
      "metadata": {
        "colab": {
          "base_uri": "https://localhost:8080/",
          "height": 564
        },
        "id": "D_H__FhZ2Xzd",
        "outputId": "94b1e7b3-9dc5-4ace-cd4e-b8b13254da80"
      },
      "execution_count": 120,
      "outputs": [
        {
          "output_type": "display_data",
          "data": {
            "text/plain": [
              "<Figure size 1000x600 with 1 Axes>"
            ],
            "image/png": "[encoded data removed]"
          },
          "metadata": {}
        }
      ]
    }
  ]
}