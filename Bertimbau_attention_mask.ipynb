{
  "nbformat": 4,
  "nbformat_minor": 0,
  "metadata": {
    "colab": {
      "provenance": [],
      "authorship_tag": "ABX9TyOKSgG4qSw08TX8rFxrW9MK",
      "include_colab_link": true
    },
    "kernelspec": {
      "name": "python3",
      "display_name": "Python 3"
    },
    "language_info": {
      "name": "python"
    }
  },
  "cells": [
    {
      "cell_type": "markdown",
      "metadata": {
        "id": "view-in-github",
        "colab_type": "text"
      },
      "source": [
        "<a href=\"https://colab.research.google.com/github/matt-balda/pln-2023/blob/master/Bertimbau_attention_mask.ipynb\" target=\"_parent\"><img src=\"https://colab.research.google.com/assets/colab-badge.svg\" alt=\"Open In Colab\"/></a>"
      ]
    },
    {
      "cell_type": "code",
      "source": [
        "!pip install transformers"
      ],
      "metadata": {
        "id": "ji1ylpQcXiyy"
      },
      "execution_count": null,
      "outputs": []
    },
    {
      "cell_type": "code",
      "source": [
        "from transformers import AutoModel, AutoTokenizer\n",
        "import torch\n",
        "\n",
        "tokenizer = AutoTokenizer.from_pretrained('neuralmind/bert-base-portuguese-cased')\n",
        "model = AutoModel.from_pretrained('neuralmind/bert-base-portuguese-cased')"
      ],
      "metadata": {
        "id": "g6YbgD6rcHg4"
      },
      "execution_count": 28,
      "outputs": []
    },
    {
      "cell_type": "code",
      "execution_count": 29,
      "metadata": {
        "colab": {
          "base_uri": "https://localhost:8080/"
        },
        "id": "aXH_rJqRXcHZ",
        "outputId": "7e89f780-ffbe-4623-a888-4bd1075f5797"
      },
      "outputs": [
        {
          "output_type": "stream",
          "name": "stderr",
          "text": [
            "Asking to truncate to max_length but no maximum length is provided and the model has no predefined maximum length. Default to no truncation.\n"
          ]
        },
        {
          "output_type": "stream",
          "name": "stdout",
          "text": [
            "tensor([[[ 0.2840,  0.1806,  0.1978,  ..., -0.2716,  0.0680, -0.0092],\n",
            "         [ 0.3774, -0.3594,  0.6884,  ..., -0.2612,  0.1143, -0.4467],\n",
            "         [-0.0106, -0.4552,  0.6774,  ..., -0.0602,  0.2312, -0.0489],\n",
            "         ...,\n",
            "         [ 0.0042,  0.0023,  0.1265,  ...,  0.4297,  0.2352, -0.2300],\n",
            "         [ 0.0222,  0.0017,  0.1819,  ...,  0.0554,  0.2934,  0.1063],\n",
            "         [ 0.2838,  0.1810,  0.1989,  ..., -0.2703,  0.0675, -0.0096]]])\n"
          ]
        }
      ],
      "source": [
        "frase = \"Eu adoro esse filme, é incrível!\"\n",
        "\n",
        "tokens = tokenizer(frase, return_tensors=\"pt\", padding=True, truncation=True)\n",
        "input_ids = tokens['input_ids']\n",
        "attention_mask = tokens['attention_mask']\n",
        "\n",
        "# Faça a inferência com o modelo\n",
        "with torch.no_grad():\n",
        "    outputs = model(input_ids=input_ids, attention_mask=attention_mask)\n",
        "\n",
        "# Obtém a representação da última camada oculta\n",
        "last_hidden_state = outputs.last_hidden_state\n",
        "\n",
        "print(last_hidden_state)"
      ]
    }
  ]
}