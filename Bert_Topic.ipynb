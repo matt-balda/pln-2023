{
  "nbformat": 4,
  "nbformat_minor": 0,
  "metadata": {
    "colab": {
      "provenance": [],
      "authorship_tag": "ABX9TyPIofMhCDxFc5efgXsGH9tS",
      "include_colab_link": true
    },
    "kernelspec": {
      "name": "python3",
      "display_name": "Python 3"
    },
    "language_info": {
      "name": "python"
    },
    "widgets": {
      "application/vnd.jupyter.widget-state+json": {
        "d0c75508819a4068aa578f2df9214192": {
          "model_module": "@jupyter-widgets/controls",
          "model_name": "HBoxModel",
          "model_module_version": "1.5.0",
          "state": {
            "_dom_classes": [],
            "_model_module": "@jupyter-widgets/controls",
            "_model_module_version": "1.5.0",
            "_model_name": "HBoxModel",
            "_view_count": null,
            "_view_module": "@jupyter-widgets/controls",
            "_view_module_version": "1.5.0",
            "_view_name": "HBoxView",
            "box_style": "",
            "children": [
              "IPY_MODEL_b72aabf30d9a4360a9a7760c02accc2c",
              "IPY_MODEL_d9962c61ae4e4595a67456ceb772a24e",
              "IPY_MODEL_6d349b2b1b7f42b8aa6d4c333393b6ca"
            ],
            "layout": "IPY_MODEL_29f378d8c3cb445099e27a8fa57dbab3"
          }
        },
        "b72aabf30d9a4360a9a7760c02accc2c": {
          "model_module": "@jupyter-widgets/controls",
          "model_name": "HTMLModel",
          "model_module_version": "1.5.0",
          "state": {
            "_dom_classes": [],
            "_model_module": "@jupyter-widgets/controls",
            "_model_module_version": "1.5.0",
            "_model_name": "HTMLModel",
            "_view_count": null,
            "_view_module": "@jupyter-widgets/controls",
            "_view_module_version": "1.5.0",
            "_view_name": "HTMLView",
            "description": "",
            "description_tooltip": null,
            "layout": "IPY_MODEL_8fcbf36167804d58ad30e760e3ea0be4",
            "placeholder": "​",
            "style": "IPY_MODEL_6e8411db44924dbc85dd51920bda5bfa",
            "value": "Batches: 100%"
          }
        },
        "d9962c61ae4e4595a67456ceb772a24e": {
          "model_module": "@jupyter-widgets/controls",
          "model_name": "FloatProgressModel",
          "model_module_version": "1.5.0",
          "state": {
            "_dom_classes": [],
            "_model_module": "@jupyter-widgets/controls",
            "_model_module_version": "1.5.0",
            "_model_name": "FloatProgressModel",
            "_view_count": null,
            "_view_module": "@jupyter-widgets/controls",
            "_view_module_version": "1.5.0",
            "_view_name": "ProgressView",
            "bar_style": "success",
            "description": "",
            "description_tooltip": null,
            "layout": "IPY_MODEL_d74e9467c5044748b7d45df531701b10",
            "max": 47,
            "min": 0,
            "orientation": "horizontal",
            "style": "IPY_MODEL_56595fe6ddeb44059c18af42adcb7085",
            "value": 47
          }
        },
        "6d349b2b1b7f42b8aa6d4c333393b6ca": {
          "model_module": "@jupyter-widgets/controls",
          "model_name": "HTMLModel",
          "model_module_version": "1.5.0",
          "state": {
            "_dom_classes": [],
            "_model_module": "@jupyter-widgets/controls",
            "_model_module_version": "1.5.0",
            "_model_name": "HTMLModel",
            "_view_count": null,
            "_view_module": "@jupyter-widgets/controls",
            "_view_module_version": "1.5.0",
            "_view_name": "HTMLView",
            "description": "",
            "description_tooltip": null,
            "layout": "IPY_MODEL_c491221b8a93477b8db87d560176ba3d",
            "placeholder": "​",
            "style": "IPY_MODEL_2fd123bcf59d4a77a4e35147d80682b6",
            "value": " 47/47 [00:59&lt;00:00,  2.66it/s]"
          }
        },
        "29f378d8c3cb445099e27a8fa57dbab3": {
          "model_module": "@jupyter-widgets/base",
          "model_name": "LayoutModel",
          "model_module_version": "1.2.0",
          "state": {
            "_model_module": "@jupyter-widgets/base",
            "_model_module_version": "1.2.0",
            "_model_name": "LayoutModel",
            "_view_count": null,
            "_view_module": "@jupyter-widgets/base",
            "_view_module_version": "1.2.0",
            "_view_name": "LayoutView",
            "align_content": null,
            "align_items": null,
            "align_self": null,
            "border": null,
            "bottom": null,
            "display": null,
            "flex": null,
            "flex_flow": null,
            "grid_area": null,
            "grid_auto_columns": null,
            "grid_auto_flow": null,
            "grid_auto_rows": null,
            "grid_column": null,
            "grid_gap": null,
            "grid_row": null,
            "grid_template_areas": null,
            "grid_template_columns": null,
            "grid_template_rows": null,
            "height": null,
            "justify_content": null,
            "justify_items": null,
            "left": null,
            "margin": null,
            "max_height": null,
            "max_width": null,
            "min_height": null,
            "min_width": null,
            "object_fit": null,
            "object_position": null,
            "order": null,
            "overflow": null,
            "overflow_x": null,
            "overflow_y": null,
            "padding": null,
            "right": null,
            "top": null,
            "visibility": null,
            "width": null
          }
        },
        "8fcbf36167804d58ad30e760e3ea0be4": {
          "model_module": "@jupyter-widgets/base",
          "model_name": "LayoutModel",
          "model_module_version": "1.2.0",
          "state": {
            "_model_module": "@jupyter-widgets/base",
            "_model_module_version": "1.2.0",
            "_model_name": "LayoutModel",
            "_view_count": null,
            "_view_module": "@jupyter-widgets/base",
            "_view_module_version": "1.2.0",
            "_view_name": "LayoutView",
            "align_content": null,
            "align_items": null,
            "align_self": null,
            "border": null,
            "bottom": null,
            "display": null,
            "flex": null,
            "flex_flow": null,
            "grid_area": null,
            "grid_auto_columns": null,
            "grid_auto_flow": null,
            "grid_auto_rows": null,
            "grid_column": null,
            "grid_gap": null,
            "grid_row": null,
            "grid_template_areas": null,
            "grid_template_columns": null,
            "grid_template_rows": null,
            "height": null,
            "justify_content": null,
            "justify_items": null,
            "left": null,
            "margin": null,
            "max_height": null,
            "max_width": null,
            "min_height": null,
            "min_width": null,
            "object_fit": null,
            "object_position": null,
            "order": null,
            "overflow": null,
            "overflow_x": null,
            "overflow_y": null,
            "padding": null,
            "right": null,
            "top": null,
            "visibility": null,
            "width": null
          }
        },
        "6e8411db44924dbc85dd51920bda5bfa": {
          "model_module": "@jupyter-widgets/controls",
          "model_name": "DescriptionStyleModel",
          "model_module_version": "1.5.0",
          "state": {
            "_model_module": "@jupyter-widgets/controls",
            "_model_module_version": "1.5.0",
            "_model_name": "DescriptionStyleModel",
            "_view_count": null,
            "_view_module": "@jupyter-widgets/base",
            "_view_module_version": "1.2.0",
            "_view_name": "StyleView",
            "description_width": ""
          }
        },
        "d74e9467c5044748b7d45df531701b10": {
          "model_module": "@jupyter-widgets/base",
          "model_name": "LayoutModel",
          "model_module_version": "1.2.0",
          "state": {
            "_model_module": "@jupyter-widgets/base",
            "_model_module_version": "1.2.0",
            "_model_name": "LayoutModel",
            "_view_count": null,
            "_view_module": "@jupyter-widgets/base",
            "_view_module_version": "1.2.0",
            "_view_name": "LayoutView",
            "align_content": null,
            "align_items": null,
            "align_self": null,
            "border": null,
            "bottom": null,
            "display": null,
            "flex": null,
            "flex_flow": null,
            "grid_area": null,
            "grid_auto_columns": null,
            "grid_auto_flow": null,
            "grid_auto_rows": null,
            "grid_column": null,
            "grid_gap": null,
            "grid_row": null,
            "grid_template_areas": null,
            "grid_template_columns": null,
            "grid_template_rows": null,
            "height": null,
            "justify_content": null,
            "justify_items": null,
            "left": null,
            "margin": null,
            "max_height": null,
            "max_width": null,
            "min_height": null,
            "min_width": null,
            "object_fit": null,
            "object_position": null,
            "order": null,
            "overflow": null,
            "overflow_x": null,
            "overflow_y": null,
            "padding": null,
            "right": null,
            "top": null,
            "visibility": null,
            "width": null
          }
        },
        "56595fe6ddeb44059c18af42adcb7085": {
          "model_module": "@jupyter-widgets/controls",
          "model_name": "ProgressStyleModel",
          "model_module_version": "1.5.0",
          "state": {
            "_model_module": "@jupyter-widgets/controls",
            "_model_module_version": "1.5.0",
            "_model_name": "ProgressStyleModel",
            "_view_count": null,
            "_view_module": "@jupyter-widgets/base",
            "_view_module_version": "1.2.0",
            "_view_name": "StyleView",
            "bar_color": null,
            "description_width": ""
          }
        },
        "c491221b8a93477b8db87d560176ba3d": {
          "model_module": "@jupyter-widgets/base",
          "model_name": "LayoutModel",
          "model_module_version": "1.2.0",
          "state": {
            "_model_module": "@jupyter-widgets/base",
            "_model_module_version": "1.2.0",
            "_model_name": "LayoutModel",
            "_view_count": null,
            "_view_module": "@jupyter-widgets/base",
            "_view_module_version": "1.2.0",
            "_view_name": "LayoutView",
            "align_content": null,
            "align_items": null,
            "align_self": null,
            "border": null,
            "bottom": null,
            "display": null,
            "flex": null,
            "flex_flow": null,
            "grid_area": null,
            "grid_auto_columns": null,
            "grid_auto_flow": null,
            "grid_auto_rows": null,
            "grid_column": null,
            "grid_gap": null,
            "grid_row": null,
            "grid_template_areas": null,
            "grid_template_columns": null,
            "grid_template_rows": null,
            "height": null,
            "justify_content": null,
            "justify_items": null,
            "left": null,
            "margin": null,
            "max_height": null,
            "max_width": null,
            "min_height": null,
            "min_width": null,
            "object_fit": null,
            "object_position": null,
            "order": null,
            "overflow": null,
            "overflow_x": null,
            "overflow_y": null,
            "padding": null,
            "right": null,
            "top": null,
            "visibility": null,
            "width": null
          }
        },
        "2fd123bcf59d4a77a4e35147d80682b6": {
          "model_module": "@jupyter-widgets/controls",
          "model_name": "DescriptionStyleModel",
          "model_module_version": "1.5.0",
          "state": {
            "_model_module": "@jupyter-widgets/controls",
            "_model_module_version": "1.5.0",
            "_model_name": "DescriptionStyleModel",
            "_view_count": null,
            "_view_module": "@jupyter-widgets/base",
            "_view_module_version": "1.2.0",
            "_view_name": "StyleView",
            "description_width": ""
          }
        }
      }
    }
  },
  "cells": [
    {
      "cell_type": "markdown",
      "metadata": {
        "id": "view-in-github",
        "colab_type": "text"
      },
      "source": [
        "<a href=\"https://colab.research.google.com/github/matt-balda/pln-2023/blob/master/Bert_Topic.ipynb\" target=\"_parent\"><img src=\"https://colab.research.google.com/assets/colab-badge.svg\" alt=\"Open In Colab\"/></a>"
      ]
    },
    {
      "cell_type": "code",
      "execution_count": null,
      "metadata": {
        "id": "lLFRDVNzlfQb"
      },
      "outputs": [],
      "source": [
        "from google.colab import files\n",
        "from zipfile import ZipFile\n",
        "\n",
        "import nltk\n",
        "from nltk.tokenize import sent_tokenize\n",
        "from nltk.corpus import stopwords\n",
        "nltk.download(\"punkt\")\n",
        "nltk.download(\"stopwords\")"
      ]
    },
    {
      "cell_type": "code",
      "source": [
        "!pip install BERTopic\n",
        "!pip install sentence_transformers"
      ],
      "metadata": {
        "id": "cfasSQvHnmA1"
      },
      "execution_count": 26,
      "outputs": []
    },
    {
      "cell_type": "code",
      "source": [
        "from bertopic import BERTopic\n",
        "from sklearn.feature_extraction.text import CountVectorizer\n",
        "from sentence_transformers import SentenceTransformer"
      ],
      "metadata": {
        "id": "fPp8C9yEns_C"
      },
      "execution_count": 27,
      "outputs": []
    },
    {
      "cell_type": "code",
      "source": [
        "files.upload()"
      ],
      "metadata": {
        "id": "KA03X1_UoOn5"
      },
      "execution_count": null,
      "outputs": []
    },
    {
      "cell_type": "markdown",
      "source": [
        "Documento de tópicos da Wikepédia"
      ],
      "metadata": {
        "id": "3HzZOSlapCCY"
      }
    },
    {
      "cell_type": "code",
      "source": [
        "zip = ZipFile(\"documentos.zip\")\n",
        "zip.extractall()"
      ],
      "metadata": {
        "id": "tcHKuVTKom-E"
      },
      "execution_count": 29,
      "outputs": []
    },
    {
      "cell_type": "code",
      "source": [
        "import glob\n",
        "dados = []\n",
        "dir = \"/content/documentos/\"\n",
        "\n",
        "for fille in glob.iglob(dir + '*.txt', recursive=False):\n",
        "  myfile = open(fille, \"r\", encoding=\"utf8\")\n",
        "  content = myfile.read()\n",
        "  dados.append(content)\n",
        "  myfile.close()"
      ],
      "metadata": {
        "id": "aZpueasgowMO"
      },
      "execution_count": 30,
      "outputs": []
    },
    {
      "cell_type": "code",
      "source": [
        "len(dados)"
      ],
      "metadata": {
        "colab": {
          "base_uri": "https://localhost:8080/"
        },
        "id": "Q_yIOvKppR4y",
        "outputId": "a96bbb6b-bfe7-4b35-f5a6-542984ed7fa6"
      },
      "execution_count": 31,
      "outputs": [
        {
          "output_type": "execute_result",
          "data": {
            "text/plain": [
              "22"
            ]
          },
          "metadata": {},
          "execution_count": 31
        }
      ]
    },
    {
      "cell_type": "code",
      "source": [
        "dados[3]"
      ],
      "metadata": {
        "colab": {
          "base_uri": "https://localhost:8080/",
          "height": 122
        },
        "id": "qqg3hCdSqWYW",
        "outputId": "dd77dc50-a4e4-48ab-a57d-e0b5e0576d41"
      },
      "execution_count": 32,
      "outputs": [
        {
          "output_type": "execute_result",
          "data": {
            "text/plain": [
              "'Zootecnia\\nOrigem: Wikipédia, a enciclopédia livre.\\n(Redirecionado de Engenharia zootécnica)\\n\\nEste artigo ou secção não cita fontes confiáveis e independentes. Ajude a inserir referências.\\nO conteúdo não verificável pode ser removido.—Encontre fontes: Google (notícias, livros e acadêmico) (Abril de 2018)\\nAmbox rewrite.svg\\nEste artigo carece de reciclagem de acordo com o livro de estilo. Sinta-se livre para editá-la para que esta possa atingir um nível de qualidade superior.\\nEditor: considere colocar o mês e o ano da marcação. Isso pode ser feito automaticamente, substituindo esta predefinição por {{subst:rec}}\\nFlag of Brazil.svgGnome-globe.svg\\nEsta página ou seção está redigida sob uma perspectiva principalmente brasileira e pode não representar uma visão mundial do assunto. Por favor aperfeiçoe este artigo ou discuta este caso na página de discussão.\\nA Zootecnia ou produção animal é a ciência que visa desenvolver e aprimorar as potencialidades dos animais domésticos e domesticáveis, silvestres e de companhia com a finalidade de incrementar sua produção com o aprimoramento da nutrição, seleção genética, sanidade e bem-estar. Como ciência agrária converge conhecimentos de áreas como Engenharia Agronômica, Medicina Veterinária, Biologia, Economia, Contabilidade, entre outras. No aspecto prático caracteriza-se também, como uma zoologia aplicada, pois ao conhecimento biológico do animal somam-se os princípios das Ciências Econômicas visando suprir o mercado com produtos para fins diversos, entre os quais: alimentação, vestuário, esportes, lazer etc. Pode-se definir zootecnia como uma Engenharia de Produção Animal Stricto Sensu e o seu clássico objetivo é: \"produzir o máximo, no menor tempo, visando o maior lucro, sustentando ainda o bem estar animal e ambiental\".\\n\\nEm síntese: o zootecnista tem conhecimentos focados na produtividade, rentabilidade e sustentabilidade na criação de animais.\\n\\nPor meio de planejamento agropecuário, pesquisas nas áreas de seleção e melhoramento genético, técnicas ambientais de nutrição e reprodução entre outras, atua em toda a cadeia produtiva animal. Este profissional tem atribuições como: planejar e dirigir sistemas de produção, realizar pesquisas e ações técnicas que visem informar, orientar, gerenciar e/ou assistir a criação de animais domésticos, selvagens, incluindo insetos úteis ao homem e organismos aquáticos, em todos os seus ramos e aspectos.\\n\\n\\nÍndice\\n1\\tÁreas de Atuação\\n2\\tHistória\\n3\\tPrincipais Desafios\\n4\\tDivisões\\n5\\tVer também\\n6\\tLigações externas\\nÁreas de Atuação\\nOs Zootecnistas podem atuar em qualquer atividade de Produção Animal, desde Estudos de Viabilidade Mercadológica, Técnica e Financeira, passando pela Concepção e Execução do Projeto, até ao Desenvolvimento de Dietas Nutricionais; Fábricas de Ração; Indústria de Alimentos Animais; Empresas de Produção Animal; Zoológicos; Representação e Venda de Produtos relacionados com a Produção Animal; Laboratórios de Análise de Alimentos destinados a Animais; Laboratórios de Genética Zootécnica; Melhoramento de Solos; Implantação, Nutrição e Manejo de Pastagens; Melhoramentos Genético dos Rebanhos e Pastagens; Planejamento e Execução de projetos de Instalações para Produção Animal; Manejo e Criação de Animais Silvestres; Pesquisa nas áreas de Produção Animal; Ensino de Zootecnia e Administração de Propriedades Rurais e Indústrias do gênero e tantas outras.\\n\\nPode-se dizer também: que a Zootecnia congrega um conjunto de atividades e habilidades destinadas a desenvolver, promover, preservar e controlar a produção e a produtividade dos animais aliada à conservação dos recursos naturais. Colabora na manutenção dos processos ecológicos e ambientais, zelando pela integridade dos ecossistemas, a conservação das espécies que compõem a biodiversidade autóctone e na sustentabilidade do meio ambiente. É uma área do conhecimento que reúne um largo espectro de campos dos saberes, onde estão compreendidos o planejamento, a economia, a administração, assim como, o melhoramento genético, a ecologia, a sustentabilidade, a ambiência, a biotecnologia, a reprodução, a saúde, o bem-estar e o manejo. Também engloba a nutrição, alimentação, formação e produção de pastos e forragens, sistemas de produção animal e sua industrialização propiciando, de forma integral em sua área de atuação, a segurança alimentar e a qualidade de vida do próprio Homem.\\n\\nA especialização do trabalho é um dos principais indicadores do desenvolvimento econômico de um país, estando diretamente relacionado. Isto foi consagrado por Adam Smith no seu clássico \"A Riqueza das Nações\", de 1776. Assim, nos países desenvolvidos há grande diversidade de especializações profissionais: nas engenharias, na saúde, bem como em cada ramo de negócios, por exemplo. A zootecnia é um trabalho especializado, autônomo; e seu profissional é o zootecnista.\\n\\nHistória\\nA primeira referência ao termo aparece em 1843 no Cours d\\'Agriculture de Adrien Étienne Pierre, o Conde de Gasparine, que o fez derivar dos radicais gregos ζωον, zoon (animal) e τέχνη, techne (tratado sobre uma arte). O Conde foi o primeiro a reconhecer, na arte de criar animais, um objeto próprio da ciência e independente da agricultura, criando para ela uma cátedra desde a fundação do Instituto Agronômico de Versalhes, em 1848. Já em 1849, o naturalista (biólogo) Emile Baudement ocupou a nova cátedra e começou a formular o corpo de doutrinas com base científica e a ensinar a Zootecnia.\\n\\nO desenvolvimento tecnológico e dos conhecimentos nas diversas áreas das ciências agrárias foi o grande propulsor da independência da Zootecnia, derivando, no início, principalmente dos cursos de Medicina Veterinária e Engenharia Agronômica. Por ser uma atividade técnica especializada, e sendo necessário para o profissional zootecnista um vasto campo de conhecimento multidisciplinar, era impossível as Ciências Zootécnicas serem comportadas nestes outros cursos agrários, pois impossibilitava a condigna e primaz aquisição das habilidades necessárias para desempenhar com maestria esta profissão.\\n\\nDiante disso, Dr. Octávio Domingues, Presidente da Sociedade Brasileira de Zootecnia - SBZ, defendeu em 1952 a criação de um curso de graduação que tratasse os estudos de Zootecnia de forma independente da Agronomia e da Veterinária. Entendia que estas carreiras, responsáveis então pelo exercício profissional da Zootecnia, respondiam apenas superficialmente aos desafios pecuários cada vez mais complexos e prementes.\\n\\nDr. Octávio Domingues ameaçou abandonar a presidência da SBZ, caso não se consolidasse a discussão da proposta que, após debates fervorosos, fora aprovada por unanimidade na assembleia, sob a seguinte moção: “Considerando as falhas que se vem observando no currículo das escolas de Agronomia e de Veterinária na preparação de Zootecnistas em nosso país, sugerimos que, ouvido o plenário, seja recomendado à SBZ que apoie o movimento no sentido da criação de escolas de Zootecnia, a fim de que possam as mesmas formar profissionais devidamente preparados para a especialidade”.\\n\\nSob a liderança do Professor Octávio Domingues, foi proposto o primeiro currículo para um curso de Zootecnia em 1953, o qual serviu de orientação para os primeiros cursos de Zootecnia.\\n\\nNeste período, portanto, o grande volume de informações científicas geradas na área levou a criação da Zootecnia como mais um curso, próprio e independente, situado no vasto e científico âmbito das Ciências Agrárias.\\n\\nO primeiro Curso de Zootecnia, no Brasil, foi criado pela Pontifícia Universidade Católica do Rio Grande do Sul (PUC-RS), na cidade de Uruguaiana, no Estado do Rio Grande do Sul, no ano de 1966, coroando o grande esforço dos professores Mário Hamilton Vilela e José Francisco Sanchotene Felice. Este fato ocorreu 13 anos após a primeira proposta curricular para um Curso de Zootecnia ter sido elaborada.\\n\\nA profissão de Zootecnista foi regulamentada em quatro de dezembro de 1968 pela lei federal 5.550. Em 12 de julho de 1969, através do Parecer 406, Resolução n° 6, foi estabelecido o currículo mínimo e a duração para o curso de Zootecnia. Em 1984, foram elaborados novos currículos para os cursos de Zootecnia. Em 1997 através do Edital 04/97 da Secretaria de Educação Superior do Ministério da Educação e Cultura, os órgãos competentes novamente debatem a reforma dos currículos para os Cursos de Zootecnia, à luz das Leis de Diretrizes e Bases da Educação Nacional.\\n\\nPrincipais Desafios\\nComo toda ciência em sua constante evolução, a Zootecnia exige do seu profissional um paradigma entre conhecimento específico da área a ser trabalhada X conhecimento macro da realidade socioeconômica em que a área está inserida. Este paradigma é principalmente notado quando a área da produção animal é base de sobrevivência econômica dos empreendimentos rurais e, por conseguinte, o desenvolvimento de comunidades avançadas ao interior destes ambientes rurais; e, de outro lado, a sustentação em abastecimento das comunidades urbanas em suas necessidades de igual escala e especificidades. Com a percepção do equilíbrio e particularidades deste paradigma, o profissional pode maximizar o sucesso nas suas decisões e contribuir com um FeedBack positivo às necessidades exigidas por estas populações.\\n\\nNa constante metamorfose da realidade mundial, a produção de alimentos também exige novas técnicas, de forma que esta produção não ocasione um impacto negativo na sustentabilidade do grande ecossistema mundial. Esta realidade é notada nos tempos atuais, onde os efeitos ambientais estão exigindo novas alternativas de produção em substituição ao modelo antigo de produção predatória do meio ambiente. Desta forma, o profissional é levado ao aprimoramento constante de seus conhecimentos para buscar respostas às interrogações da produção sustentável ante a esta dinâmica econômica, social e ambiental.\\n\\nA lei federal nº 5.550, que regulamenta e estabelece o campo de trabalho do zootecnista.\\n\\nDivisões\\nA Zootecnia tem dois grandes corpos de conhecimento, um fundamentador, a Zootecnia geral, que reúne primordiais teorias e princípios. Neste aspecto, o homem contemporâneo, sua economia, saúde e bem estar, sua relação com o meio ambiente e com os seres (animais e vegetais) que o beneficiam são contemplados englobando primeiramente os ecossistemas, em suas diversidades e especificidades. Esta ecologia, é profundamente estudada através de disciplinas como climatologia, solos e adubos, variabilidade gênica em dinâmica de populações (animais e vegetais), visando adequar às \"vocações\" dos ecossistemas as espécies e linhagens mais apropriadas. Lastreiam também o conhecimento científico do zootecnista disciplinas como anatomia, histologia, botânica, fisiologia animal e vegetal, genética, nutrição, higiene e profilaxia, etologia, entre outras que, associados a análises contábeis, o preparam para realizar um constante melhoramento genético, buscando excelência na produção animal, sempre integrados às situações macroeconômicas do mercado e segurança alimentar.\\n\\nO outro grande corpo de conhecimento, a Zootecnia especial (ou específica), estuda a criação de cada uma das espécies de animais domésticos: bovinocultura, avicultura, suinocultura, ovinocultura, equinocultura, caprinocultura, apicultura, aquicultura, sericicultura, cunicultura, carcinicultura, minhocultura, ranicultura, helicicultura, bubalinocultura, piscicultura, entre outras.\\n\\nO fato de conhecer e integrar Ciências (naturais e econômicas) às quais se dedica, a zootecnia confere a este profissional específicos atributos. Além do entendimento de muitos aspectos dos seres vivos e seu manejo, e do status e poder humano sobre o planeta, possibilita ao zootecnista estabelecer linhas de pesquisa científica que otimizem a relação custo/benefício.\\n\\nAinda, pelo fato de o zootecnista pesquisar nos ambientes naturais, animais, plantas e \"serviços ambientais\" que estes ecossistemas possam dispor ao Ser Humano, isto lhe possibilita contribuir significativamente para uma preservação ambiental cientificamente fundamentada. E por este aspecto, traz à luz um crescente entendimento da impreterível necessidade de se manter preservados os estoques genéticos naturais (biodiversidade).\\n\\nConcluindo: o avanço da zootecnia nos últimos anos tem contribuído de forma significativa para o aumento da produção mundial de alimentos de origem animal. O zootecnista é um dos responsáveis pelo crescimento da produtividade dos animais e pela evolução pecuária global decorrente de fatores como melhorias nas técnicas de produção, infraestrutura, ambiência, nutrição, melhoramento genético, sanidade e o entendimento das relações destes conhecimentos por intermédio do manejo ambiental focado no animal.'"
            ],
            "application/vnd.google.colaboratory.intrinsic+json": {
              "type": "string"
            }
          },
          "metadata": {},
          "execution_count": 32
        }
      ]
    },
    {
      "cell_type": "code",
      "source": [
        "sentencas = []\n",
        "\n",
        "for item in dados:\n",
        "  for t in sent_tokenize(item):\n",
        "    sentencas.append(t)"
      ],
      "metadata": {
        "id": "Yaje_RrJqcB7"
      },
      "execution_count": 33,
      "outputs": []
    },
    {
      "cell_type": "code",
      "source": [
        "len(sentencas)"
      ],
      "metadata": {
        "colab": {
          "base_uri": "https://localhost:8080/"
        },
        "id": "m0-JJryYrDJl",
        "outputId": "3ab280c5-cb28-4622-ee26-9cd319c3fa85"
      },
      "execution_count": 34,
      "outputs": [
        {
          "output_type": "execute_result",
          "data": {
            "text/plain": [
              "1504"
            ]
          },
          "metadata": {},
          "execution_count": 34
        }
      ]
    },
    {
      "cell_type": "code",
      "source": [
        "modelo = BERTopic(language=\"portuguese\", verbose=True,\n",
        "                  top_n_words=15, min_topic_size=10, nr_topics=20,\n",
        "                  vectorizer_model=CountVectorizer(ngram_range=(1,3),\n",
        "                  stop_words=stopwords.words(\"portuguese\"), min_df=10))"
      ],
      "metadata": {
        "id": "GZa8ZOgrq3uy"
      },
      "execution_count": 35,
      "outputs": []
    },
    {
      "cell_type": "code",
      "source": [
        "%%time\n",
        "topicos, probabilidades = modelo.fit_transform(sentencas)"
      ],
      "metadata": {
        "colab": {
          "base_uri": "https://localhost:8080/",
          "height": 223,
          "referenced_widgets": [
            "d0c75508819a4068aa578f2df9214192",
            "b72aabf30d9a4360a9a7760c02accc2c",
            "d9962c61ae4e4595a67456ceb772a24e",
            "6d349b2b1b7f42b8aa6d4c333393b6ca",
            "29f378d8c3cb445099e27a8fa57dbab3",
            "8fcbf36167804d58ad30e760e3ea0be4",
            "6e8411db44924dbc85dd51920bda5bfa",
            "d74e9467c5044748b7d45df531701b10",
            "56595fe6ddeb44059c18af42adcb7085",
            "c491221b8a93477b8db87d560176ba3d",
            "2fd123bcf59d4a77a4e35147d80682b6"
          ]
        },
        "id": "bWjRETh7y1ZB",
        "outputId": "47ecdb38-565d-4813-c65c-c308bcb9f06b"
      },
      "execution_count": 36,
      "outputs": [
        {
          "output_type": "display_data",
          "data": {
            "text/plain": [
              "Batches:   0%|          | 0/47 [00:00<?, ?it/s]"
            ],
            "application/vnd.jupyter.widget-view+json": {
              "version_major": 2,
              "version_minor": 0,
              "model_id": "d0c75508819a4068aa578f2df9214192"
            }
          },
          "metadata": {}
        },
        {
          "output_type": "stream",
          "name": "stderr",
          "text": [
            "2023-10-23 23:21:43,744 - BERTopic - Transformed documents to Embeddings\n",
            "2023-10-23 23:21:48,359 - BERTopic - Reduced dimensionality\n",
            "2023-10-23 23:21:48,412 - BERTopic - Clustered reduced embeddings\n",
            "/usr/local/lib/python3.10/dist-packages/sklearn/cluster/_agglomerative.py:983: FutureWarning:\n",
            "\n",
            "Attribute `affinity` was deprecated in version 1.2 and will be removed in 1.4. Use `metric` instead\n",
            "\n",
            "2023-10-23 23:21:48,810 - BERTopic - Reduced number of topics from 32 to 20\n"
          ]
        },
        {
          "output_type": "stream",
          "name": "stdout",
          "text": [
            "CPU times: user 59.8 s, sys: 1.92 s, total: 1min 1s\n",
            "Wall time: 1min 8s\n"
          ]
        }
      ]
    },
    {
      "cell_type": "code",
      "source": [
        "frequencia = modelo.get_topic_info()\n",
        "frequencia.head(10)"
      ],
      "metadata": {
        "colab": {
          "base_uri": "https://localhost:8080/",
          "height": 363
        },
        "id": "X-BWtmRpzIfQ",
        "outputId": "a0e4ea94-b4b8-4693-bc4c-1efc2f078519"
      },
      "execution_count": 37,
      "outputs": [
        {
          "output_type": "execute_result",
          "data": {
            "text/plain": [
              "   Topic  ...                                Representative_Docs\n",
              "0     -1  ...  [Ultrassom não fornece a qualidade de imagem d...\n",
              "1      0  ...  [[21]\\n\\nEspecializações\\nA Engenharia Elétric...\n",
              "2      1  ...  [Para a formação da imagem em tempo real, é ne...\n",
              "3      2  ...  [[1] Ele lida, entre outras coisas, com o func...\n",
              "4      3  ...  [[1][2][3]\\n\\nObjetos de estudo e aplicações\\n...\n",
              "5      4  ...  [[6][7]\\n\\nEngenharia Topográfica tem por fim ...\n",
              "6      5  ...  [Estes micrótomos, no entanto, forneciam corte...\n",
              "7      6  ...  [(explicação sugerida por Enrico Coiera)\\n\\nAs...\n",
              "8      7  ...  [Foram descobertas antigas minas de sílex nas ...\n",
              "9      8  ...  [Os primeiros microscópios chamados microscópi...\n",
              "\n",
              "[10 rows x 5 columns]"
            ],
            "text/html": [
              "\n",
              "  <div id=\"df-c54b1da9-3aec-45d3-aad8-7094a638a21b\" class=\"colab-df-container\">\n",
              "    <div>\n",
              "<style scoped>\n",
              "    .dataframe tbody tr th:only-of-type {\n",
              "        vertical-align: middle;\n",
              "    }\n",
              "\n",
              "    .dataframe tbody tr th {\n",
              "        vertical-align: top;\n",
              "    }\n",
              "\n",
              "    .dataframe thead th {\n",
              "        text-align: right;\n",
              "    }\n",
              "</style>\n",
              "<table border=\"1\" class=\"dataframe\">\n",
              "  <thead>\n",
              "    <tr style=\"text-align: right;\">\n",
              "      <th></th>\n",
              "      <th>Topic</th>\n",
              "      <th>Count</th>\n",
              "      <th>Name</th>\n",
              "      <th>Representation</th>\n",
              "      <th>Representative_Docs</th>\n",
              "    </tr>\n",
              "  </thead>\n",
              "  <tbody>\n",
              "    <tr>\n",
              "      <th>0</th>\n",
              "      <td>-1</td>\n",
              "      <td>200</td>\n",
              "      <td>-1_além_desenvolvimento_pode_técnicas</td>\n",
              "      <td>[além, desenvolvimento, pode, técnicas, engenh...</td>\n",
              "      <td>[Ultrassom não fornece a qualidade de imagem d...</td>\n",
              "    </tr>\n",
              "    <tr>\n",
              "      <th>1</th>\n",
              "      <td>0</td>\n",
              "      <td>225</td>\n",
              "      <td>0_engenharia_sistemas_controle_desenvolvimento</td>\n",
              "      <td>[engenharia, sistemas, controle, desenvolvimen...</td>\n",
              "      <td>[[21]\\n\\nEspecializações\\nA Engenharia Elétric...</td>\n",
              "    </tr>\n",
              "    <tr>\n",
              "      <th>2</th>\n",
              "      <td>1</td>\n",
              "      <td>151</td>\n",
              "      <td>1_tempo_maior_cada_meio</td>\n",
              "      <td>[tempo, maior, cada, meio, através, pode, form...</td>\n",
              "      <td>[Para a formação da imagem em tempo real, é ne...</td>\n",
              "    </tr>\n",
              "    <tr>\n",
              "      <th>3</th>\n",
              "      <td>2</td>\n",
              "      <td>132</td>\n",
              "      <td>2_sistema_através_podem_outras</td>\n",
              "      <td>[sistema, através, podem, outras, processo, li...</td>\n",
              "      <td>[[1] Ele lida, entre outras coisas, com o func...</td>\n",
              "    </tr>\n",
              "    <tr>\n",
              "      <th>4</th>\n",
              "      <td>3</td>\n",
              "      <td>120</td>\n",
              "      <td>3_estudo_ciência_função_podem</td>\n",
              "      <td>[estudo, ciência, função, podem, vez, trabalho...</td>\n",
              "      <td>[[1][2][3]\\n\\nObjetos de estudo e aplicações\\n...</td>\n",
              "    </tr>\n",
              "    <tr>\n",
              "      <th>5</th>\n",
              "      <td>4</td>\n",
              "      <td>116</td>\n",
              "      <td>4_forma_engenharia_sistemas_formação</td>\n",
              "      <td>[forma, engenharia, sistemas, formação, dentre...</td>\n",
              "      <td>[[6][7]\\n\\nEngenharia Topográfica tem por fim ...</td>\n",
              "    </tr>\n",
              "    <tr>\n",
              "      <th>6</th>\n",
              "      <td>5</td>\n",
              "      <td>93</td>\n",
              "      <td>5_estruturas_sobre_grande_função</td>\n",
              "      <td>[estruturas, sobre, grande, função, meio, estu...</td>\n",
              "      <td>[Estes micrótomos, no entanto, forneciam corte...</td>\n",
              "    </tr>\n",
              "    <tr>\n",
              "      <th>7</th>\n",
              "      <td>6</td>\n",
              "      <td>90</td>\n",
              "      <td>6_estudo_áreas_podem_diversos</td>\n",
              "      <td>[estudo, áreas, podem, diversos, qualidade, ut...</td>\n",
              "      <td>[(explicação sugerida por Enrico Coiera)\\n\\nAs...</td>\n",
              "    </tr>\n",
              "    <tr>\n",
              "      <th>8</th>\n",
              "      <td>7</td>\n",
              "      <td>64</td>\n",
              "      <td>7_através_estudo_partir_quais</td>\n",
              "      <td>[através, estudo, partir, quais, uso, podem, f...</td>\n",
              "      <td>[Foram descobertas antigas minas de sílex nas ...</td>\n",
              "    </tr>\n",
              "    <tr>\n",
              "      <th>9</th>\n",
              "      <td>8</td>\n",
              "      <td>57</td>\n",
              "      <td>8_qualidade_sobre_grande_muitos</td>\n",
              "      <td>[qualidade, sobre, grande, muitos, vez, primei...</td>\n",
              "      <td>[Os primeiros microscópios chamados microscópi...</td>\n",
              "    </tr>\n",
              "  </tbody>\n",
              "</table>\n",
              "</div>\n",
              "    <div class=\"colab-df-buttons\">\n",
              "\n",
              "  <div class=\"colab-df-container\">\n",
              "    <button class=\"colab-df-convert\" onclick=\"convertToInteractive('df-c54b1da9-3aec-45d3-aad8-7094a638a21b')\"\n",
              "            title=\"Convert this dataframe to an interactive table.\"\n",
              "            style=\"display:none;\">\n",
              "\n",
              "  <svg xmlns=\"http://www.w3.org/2000/svg\" height=\"24px\" viewBox=\"0 -960 960 960\">\n",
              "    <path d=\"M120-120v-720h720v720H120Zm60-500h600v-160H180v160Zm220 220h160v-160H400v160Zm0 220h160v-160H400v160ZM180-400h160v-160H180v160Zm440 0h160v-160H620v160ZM180-180h160v-160H180v160Zm440 0h160v-160H620v160Z\"/>\n",
              "  </svg>\n",
              "    </button>\n",
              "\n",
              "  <style>\n",
              "    .colab-df-container {\n",
              "      display:flex;\n",
              "      gap: 12px;\n",
              "    }\n",
              "\n",
              "    .colab-df-convert {\n",
              "      background-color: #E8F0FE;\n",
              "      border: none;\n",
              "      border-radius: 50%;\n",
              "      cursor: pointer;\n",
              "      display: none;\n",
              "      fill: #1967D2;\n",
              "      height: 32px;\n",
              "      padding: 0 0 0 0;\n",
              "      width: 32px;\n",
              "    }\n",
              "\n",
              "    .colab-df-convert:hover {\n",
              "      background-color: #E2EBFA;\n",
              "      box-shadow: 0px 1px 2px rgba(60, 64, 67, 0.3), 0px 1px 3px 1px rgba(60, 64, 67, 0.15);\n",
              "      fill: #174EA6;\n",
              "    }\n",
              "\n",
              "    .colab-df-buttons div {\n",
              "      margin-bottom: 4px;\n",
              "    }\n",
              "\n",
              "    [theme=dark] .colab-df-convert {\n",
              "      background-color: #3B4455;\n",
              "      fill: #D2E3FC;\n",
              "    }\n",
              "\n",
              "    [theme=dark] .colab-df-convert:hover {\n",
              "      background-color: #434B5C;\n",
              "      box-shadow: 0px 1px 3px 1px rgba(0, 0, 0, 0.15);\n",
              "      filter: drop-shadow(0px 1px 2px rgba(0, 0, 0, 0.3));\n",
              "      fill: #FFFFFF;\n",
              "    }\n",
              "  </style>\n",
              "\n",
              "    <script>\n",
              "      const buttonEl =\n",
              "        document.querySelector('#df-c54b1da9-3aec-45d3-aad8-7094a638a21b button.colab-df-convert');\n",
              "      buttonEl.style.display =\n",
              "        google.colab.kernel.accessAllowed ? 'block' : 'none';\n",
              "\n",
              "      async function convertToInteractive(key) {\n",
              "        const element = document.querySelector('#df-c54b1da9-3aec-45d3-aad8-7094a638a21b');\n",
              "        const dataTable =\n",
              "          await google.colab.kernel.invokeFunction('convertToInteractive',\n",
              "                                                    [key], {});\n",
              "        if (!dataTable) return;\n",
              "\n",
              "        const docLinkHtml = 'Like what you see? Visit the ' +\n",
              "          '<a target=\"_blank\" href=https://colab.research.google.com/notebooks/data_table.ipynb>data table notebook</a>'\n",
              "          + ' to learn more about interactive tables.';\n",
              "        element.innerHTML = '';\n",
              "        dataTable['output_type'] = 'display_data';\n",
              "        await google.colab.output.renderOutput(dataTable, element);\n",
              "        const docLink = document.createElement('div');\n",
              "        docLink.innerHTML = docLinkHtml;\n",
              "        element.appendChild(docLink);\n",
              "      }\n",
              "    </script>\n",
              "  </div>\n",
              "\n",
              "\n",
              "<div id=\"df-59129678-fc5f-4f24-8755-0671211cd5c4\">\n",
              "  <button class=\"colab-df-quickchart\" onclick=\"quickchart('df-59129678-fc5f-4f24-8755-0671211cd5c4')\"\n",
              "            title=\"Suggest charts.\"\n",
              "            style=\"display:none;\">\n",
              "\n",
              "<svg xmlns=\"http://www.w3.org/2000/svg\" height=\"24px\"viewBox=\"0 0 24 24\"\n",
              "     width=\"24px\">\n",
              "    <g>\n",
              "        <path d=\"M19 3H5c-1.1 0-2 .9-2 2v14c0 1.1.9 2 2 2h14c1.1 0 2-.9 2-2V5c0-1.1-.9-2-2-2zM9 17H7v-7h2v7zm4 0h-2V7h2v10zm4 0h-2v-4h2v4z\"/>\n",
              "    </g>\n",
              "</svg>\n",
              "  </button>\n",
              "\n",
              "<style>\n",
              "  .colab-df-quickchart {\n",
              "      --bg-color: #E8F0FE;\n",
              "      --fill-color: #1967D2;\n",
              "      --hover-bg-color: #E2EBFA;\n",
              "      --hover-fill-color: #174EA6;\n",
              "      --disabled-fill-color: #AAA;\n",
              "      --disabled-bg-color: #DDD;\n",
              "  }\n",
              "\n",
              "  [theme=dark] .colab-df-quickchart {\n",
              "      --bg-color: #3B4455;\n",
              "      --fill-color: #D2E3FC;\n",
              "      --hover-bg-color: #434B5C;\n",
              "      --hover-fill-color: #FFFFFF;\n",
              "      --disabled-bg-color: #3B4455;\n",
              "      --disabled-fill-color: #666;\n",
              "  }\n",
              "\n",
              "  .colab-df-quickchart {\n",
              "    background-color: var(--bg-color);\n",
              "    border: none;\n",
              "    border-radius: 50%;\n",
              "    cursor: pointer;\n",
              "    display: none;\n",
              "    fill: var(--fill-color);\n",
              "    height: 32px;\n",
              "    padding: 0;\n",
              "    width: 32px;\n",
              "  }\n",
              "\n",
              "  .colab-df-quickchart:hover {\n",
              "    background-color: var(--hover-bg-color);\n",
              "    box-shadow: 0 1px 2px rgba(60, 64, 67, 0.3), 0 1px 3px 1px rgba(60, 64, 67, 0.15);\n",
              "    fill: var(--button-hover-fill-color);\n",
              "  }\n",
              "\n",
              "  .colab-df-quickchart-complete:disabled,\n",
              "  .colab-df-quickchart-complete:disabled:hover {\n",
              "    background-color: var(--disabled-bg-color);\n",
              "    fill: var(--disabled-fill-color);\n",
              "    box-shadow: none;\n",
              "  }\n",
              "\n",
              "  .colab-df-spinner {\n",
              "    border: 2px solid var(--fill-color);\n",
              "    border-color: transparent;\n",
              "    border-bottom-color: var(--fill-color);\n",
              "    animation:\n",
              "      spin 1s steps(1) infinite;\n",
              "  }\n",
              "\n",
              "  @keyframes spin {\n",
              "    0% {\n",
              "      border-color: transparent;\n",
              "      border-bottom-color: var(--fill-color);\n",
              "      border-left-color: var(--fill-color);\n",
              "    }\n",
              "    20% {\n",
              "      border-color: transparent;\n",
              "      border-left-color: var(--fill-color);\n",
              "      border-top-color: var(--fill-color);\n",
              "    }\n",
              "    30% {\n",
              "      border-color: transparent;\n",
              "      border-left-color: var(--fill-color);\n",
              "      border-top-color: var(--fill-color);\n",
              "      border-right-color: var(--fill-color);\n",
              "    }\n",
              "    40% {\n",
              "      border-color: transparent;\n",
              "      border-right-color: var(--fill-color);\n",
              "      border-top-color: var(--fill-color);\n",
              "    }\n",
              "    60% {\n",
              "      border-color: transparent;\n",
              "      border-right-color: var(--fill-color);\n",
              "    }\n",
              "    80% {\n",
              "      border-color: transparent;\n",
              "      border-right-color: var(--fill-color);\n",
              "      border-bottom-color: var(--fill-color);\n",
              "    }\n",
              "    90% {\n",
              "      border-color: transparent;\n",
              "      border-bottom-color: var(--fill-color);\n",
              "    }\n",
              "  }\n",
              "</style>\n",
              "\n",
              "  <script>\n",
              "    async function quickchart(key) {\n",
              "      const quickchartButtonEl =\n",
              "        document.querySelector('#' + key + ' button');\n",
              "      quickchartButtonEl.disabled = true;  // To prevent multiple clicks.\n",
              "      quickchartButtonEl.classList.add('colab-df-spinner');\n",
              "      try {\n",
              "        const charts = await google.colab.kernel.invokeFunction(\n",
              "            'suggestCharts', [key], {});\n",
              "      } catch (error) {\n",
              "        console.error('Error during call to suggestCharts:', error);\n",
              "      }\n",
              "      quickchartButtonEl.classList.remove('colab-df-spinner');\n",
              "      quickchartButtonEl.classList.add('colab-df-quickchart-complete');\n",
              "    }\n",
              "    (() => {\n",
              "      let quickchartButtonEl =\n",
              "        document.querySelector('#df-59129678-fc5f-4f24-8755-0671211cd5c4 button');\n",
              "      quickchartButtonEl.style.display =\n",
              "        google.colab.kernel.accessAllowed ? 'block' : 'none';\n",
              "    })();\n",
              "  </script>\n",
              "</div>\n",
              "    </div>\n",
              "  </div>\n"
            ]
          },
          "metadata": {},
          "execution_count": 37
        }
      ]
    },
    {
      "cell_type": "code",
      "source": [
        "modelo.get_topic(4)"
      ],
      "metadata": {
        "colab": {
          "base_uri": "https://localhost:8080/"
        },
        "id": "vSB0hMJBz_oq",
        "outputId": "7a887b40-2135-4be2-a0cb-ad0653afd24b"
      },
      "execution_count": 38,
      "outputs": [
        {
          "output_type": "execute_result",
          "data": {
            "text/plain": [
              "[('forma', 0.07254953711111228),\n",
              " ('engenharia', 0.06891958729293961),\n",
              " ('sistemas', 0.056369893438018175),\n",
              " ('formação', 0.04854786229662976),\n",
              " ('dentre', 0.044000721019996816),\n",
              " ('áreas', 0.042676198300654285),\n",
              " ('conhecimentos', 0.04187308367694146),\n",
              " ('além', 0.041830443834227085),\n",
              " ('assim', 0.034270889385026794),\n",
              " ('trabalho', 0.033769401363480805),\n",
              " ('técnicas', 0.03328751599753481),\n",
              " ('desde', 0.033159416979730266),\n",
              " ('bem', 0.03255610645233769),\n",
              " ('ainda', 0.02993219655463376),\n",
              " ('outras', 0.028996565036972875)]"
            ]
          },
          "metadata": {},
          "execution_count": 38
        }
      ]
    },
    {
      "cell_type": "code",
      "source": [
        "modelo.visualize_barchart(n_words=15, top_n_topics=10)"
      ],
      "metadata": {
        "colab": {
          "base_uri": "https://localhost:8080/",
          "height": 767
        },
        "id": "-LQVAR670NQd",
        "outputId": "876a1ffa-dde6-4937-b894-7c9c48a0a5c9"
      },
      "execution_count": 39,
      "outputs": [
        {
          "output_type": "display_data",
          "data": {
            "text/html": [
              "<html>\n",
              "<head><meta charset=\"utf-8\" /></head>\n",
              "<body>\n",
              "    <div>            <script src=\"https://cdnjs.cloudflare.com/ajax/libs/mathjax/2.7.5/MathJax.js?config=TeX-AMS-MML_SVG\"></script><script type=\"text/javascript\">if (window.MathJax && window.MathJax.Hub && window.MathJax.Hub.Config) {window.MathJax.Hub.Config({SVG: {font: \"STIX-Web\"}});}</script>                <script type=\"text/javascript\">window.PlotlyConfig = {MathJaxConfig: 'local'};</script>\n",
              "        <script charset=\"utf-8\" src=\"https://cdn.plot.ly/plotly-2.24.1.min.js\"></script>                <div id=\"cef1ceec-cd74-4c3c-b043-979de1c68d5b\" class=\"plotly-graph-div\" style=\"height:750px; width:1000px;\"></div>            <script type=\"text/javascript\">                                    window.PLOTLYENV=window.PLOTLYENV || {};                                    if (document.getElementById(\"cef1ceec-cd74-4c3c-b043-979de1c68d5b\")) {                    Plotly.newPlot(                        \"cef1ceec-cd74-4c3c-b043-979de1c68d5b\",                        [{\"marker\":{\"color\":\"#D55E00\"},\"orientation\":\"h\",\"x\":[0.024578064706932,0.025104798854328092,0.025202965741072864,0.025434433067329457,0.025948890960597687,0.02625790572797763,0.028054419488656848,0.028361224567513547,0.02946243779774804,0.03784100059792815,0.0387517520956661,0.04216073833080393,0.054396438359521716,0.07710326812312203,0.08269197973693007],\"y\":[\"\\u00e1reas  \",\"t\\u00e9cnicas  \",\"geralmente  \",\"an\\u00e1lise  \",\"estudos  \",\"anos  \",\"outros  \",\"ver  \",\"exemplo  \",\"primeiro  \",\"sistema  \",\"desenvolvimento  \",\"controle  \",\"sistemas  \",\"engenharia  \"],\"type\":\"bar\",\"xaxis\":\"x\",\"yaxis\":\"y\"},{\"marker\":{\"color\":\"#0072B2\"},\"orientation\":\"h\",\"x\":[0.0322661483614708,0.036149360206917835,0.03671982821150103,0.03693828600825601,0.03733134966691124,0.03834598539377266,0.041491016695330445,0.05720122445114227,0.06337404506428147,0.06755454036002946,0.06866401737398017,0.07027821646363858,0.08894614604832171,0.09444635274541258,0.17624822794251524],\"y\":[\"sistema  \",\"t\\u00e9cnica  \",\"sendo  \",\"sobre  \",\"produ\\u00e7\\u00e3o  \",\"assim  \",\"partir  \",\"estruturas  \",\"forma\\u00e7\\u00e3o  \",\"pode  \",\"atrav\\u00e9s  \",\"meio  \",\"cada  \",\"maior  \",\"tempo  \"],\"type\":\"bar\",\"xaxis\":\"x2\",\"yaxis\":\"y2\"},{\"marker\":{\"color\":\"#CC79A7\"},\"orientation\":\"h\",\"x\":[0.036369755438914346,0.036369755438914346,0.03779353660245698,0.03937287003428631,0.03999420779723997,0.041548290767695006,0.04176537262633838,0.04305673311893281,0.05150495847831546,0.05614622314286403,0.06667612579758227,0.0681511624117388,0.0739778959764582,0.09140623968892901,0.12651618427593267],\"y\":[\"ent\\u00e3o  \",\"muitos  \",\"\\u00edndice  \",\"principais  \",\"sendo  \",\"ver  \",\"vez  \",\"cada  \",\"pode  \",\"liga\\u00e7\\u00f5es  \",\"processo  \",\"outras  \",\"podem  \",\"atrav\\u00e9s  \",\"sistema  \"],\"type\":\"bar\",\"xaxis\":\"x3\",\"yaxis\":\"y3\"},{\"marker\":{\"color\":\"#E69F00\"},\"orientation\":\"h\",\"x\":[0.033539216469365946,0.03448325101600767,0.034576490221182136,0.03738257437923078,0.03793926623829219,0.039069184223025924,0.03973633396079008,0.039795255838535264,0.04189812040584627,0.04269523432299115,0.043329274244505236,0.05116532893525963,0.05227828411088764,0.05864890967835584,0.0763116254377811],\"y\":[\"ent\\u00e3o  \",\"ver  \",\"sendo  \",\"primeiro  \",\"existem  \",\"hist\\u00f3ria  \",\"diversas  \",\"outros  \",\"outras  \",\"trabalho  \",\"vez  \",\"podem  \",\"fun\\u00e7\\u00e3o  \",\"ci\\u00eancia  \",\"estudo  \"],\"type\":\"bar\",\"xaxis\":\"x4\",\"yaxis\":\"y4\"},{\"marker\":{\"color\":\"#56B4E9\"},\"orientation\":\"h\",\"x\":[0.028996565036972875,0.02993219655463376,0.03255610645233769,0.033159416979730266,0.03328751599753481,0.033769401363480805,0.034270889385026794,0.041830443834227085,0.04187308367694146,0.042676198300654285,0.044000721019996816,0.04854786229662976,0.056369893438018175,0.06891958729293961,0.07254953711111228],\"y\":[\"outras  \",\"ainda  \",\"bem  \",\"desde  \",\"t\\u00e9cnicas  \",\"trabalho  \",\"assim  \",\"al\\u00e9m  \",\"conhecimentos  \",\"\\u00e1reas  \",\"dentre  \",\"forma\\u00e7\\u00e3o  \",\"sistemas  \",\"engenharia  \",\"forma  \"],\"type\":\"bar\",\"xaxis\":\"x5\",\"yaxis\":\"y5\"},{\"marker\":{\"color\":\"#009E73\"},\"orientation\":\"h\",\"x\":[0.03323408922248898,0.034726667081017445,0.034726667081017445,0.03552124557067203,0.03735210193135591,0.039079912061770125,0.03944654736507611,0.03991414510224956,0.041535397518256446,0.046927732241242186,0.05538053002434193,0.06380199189877148,0.06603813657575452,0.09169035833339678,0.11268904816987706],\"y\":[\"quais  \",\"externas  \",\"geralmente  \",\"exemplo  \",\"utilizados  \",\"diversos  \",\"v\\u00e1rios  \",\"estudo  \",\"conhecimentos  \",\"estudos  \",\"meio  \",\"fun\\u00e7\\u00e3o  \",\"grande  \",\"sobre  \",\"estruturas  \"],\"type\":\"bar\",\"xaxis\":\"x6\",\"yaxis\":\"y6\"},{\"marker\":{\"color\":\"#F0E442\"},\"orientation\":\"h\",\"x\":[0.03242396309609698,0.03644607583613592,0.036939383058319404,0.041419323983028056,0.04277430590510241,0.04503854714304518,0.04547548724377713,0.04694284377693928,0.04813808142910746,0.05061924196161894,0.05105793744164435,0.06178754766778956,0.06346737523663352,0.06692933831851246,0.0676141255830457],\"y\":[\"uso  \",\"al\\u00e9m  \",\"an\\u00e1lise  \",\"sobre  \",\"atrav\\u00e9s  \",\"principalmente  \",\"outras  \",\"ainda  \",\"exemplo  \",\"utilizados  \",\"qualidade  \",\"diversos  \",\"podem  \",\"\\u00e1reas  \",\"estudo  \"],\"type\":\"bar\",\"xaxis\":\"x7\",\"yaxis\":\"y7\"},{\"marker\":{\"color\":\"#D55E00\"},\"orientation\":\"h\",\"x\":[0.032759181498010985,0.035636758164864814,0.03855958616794297,0.039218033952605855,0.0399393551487645,0.04062435892096051,0.0467389450686996,0.05022533218071756,0.053252473531685995,0.056108838977313696,0.06449549181071464,0.06719065864546685,0.07711917233588594,0.09414532051291473,0.11344489827005419],\"y\":[\"tempo  \",\"vez  \",\"hist\\u00f3ria  \",\"dentre  \",\"\\u00e1reas  \",\"bem  \",\"engenharia  \",\"pode  \",\"forma  \",\"podem  \",\"uso  \",\"quais  \",\"partir  \",\"estudo  \",\"atrav\\u00e9s  \"],\"type\":\"bar\",\"xaxis\":\"x8\",\"yaxis\":\"y8\"},{\"marker\":{\"color\":\"#0072B2\"},\"orientation\":\"h\",\"x\":[0.032164309996445366,0.03334936709235549,0.03396786023103776,0.03546478218356568,0.037331215191454034,0.043003816293619566,0.04360479600115747,0.04486952866351385,0.05822267488776981,0.05892947488948186,0.06830378648265756,0.07930627227652155,0.09477695527075883,0.10527411512352963,0.1297722576641794],\"y\":[\"utilizados  \",\"desenvolvimento  \",\"v\\u00e1rios  \",\"produ\\u00e7\\u00e3o  \",\"13  \",\"grandes  \",\"sendo  \",\"diversos  \",\"estruturas  \",\"primeiro  \",\"vez  \",\"muitos  \",\"grande  \",\"sobre  \",\"qualidade  \"],\"type\":\"bar\",\"xaxis\":\"x9\",\"yaxis\":\"y9\"},{\"marker\":{\"color\":\"#CC79A7\"},\"orientation\":\"h\",\"x\":[0.034110403148564936,0.034110403148564936,0.03533096801621475,0.03660289489685611,0.03763316336843144,0.03803580286272915,0.041300675053749465,0.04140487228890542,0.04237960112225794,0.044430101544480925,0.045735048215378195,0.04666776754820544,0.07442968204664926,0.07925052045362757,0.08682657872377657],\"y\":[\"refer\\u00eancias  \",\"partir  \",\"\\u00e1reas  \",\"ent\\u00e3o  \",\"ver  \",\"\\u00edndice  \",\"ainda  \",\"externas  \",\"liga\\u00e7\\u00f5es  \",\"pode  \",\"liga\\u00e7\\u00f5es externas  \",\"sistemas  \",\"forma\\u00e7\\u00e3o  \",\"principalmente  \",\"engenharia  \"],\"type\":\"bar\",\"xaxis\":\"x10\",\"yaxis\":\"y10\"}],                        {\"template\":{\"data\":{\"barpolar\":[{\"marker\":{\"line\":{\"color\":\"white\",\"width\":0.5},\"pattern\":{\"fillmode\":\"overlay\",\"size\":10,\"solidity\":0.2}},\"type\":\"barpolar\"}],\"bar\":[{\"error_x\":{\"color\":\"#2a3f5f\"},\"error_y\":{\"color\":\"#2a3f5f\"},\"marker\":{\"line\":{\"color\":\"white\",\"width\":0.5},\"pattern\":{\"fillmode\":\"overlay\",\"size\":10,\"solidity\":0.2}},\"type\":\"bar\"}],\"carpet\":[{\"aaxis\":{\"endlinecolor\":\"#2a3f5f\",\"gridcolor\":\"#C8D4E3\",\"linecolor\":\"#C8D4E3\",\"minorgridcolor\":\"#C8D4E3\",\"startlinecolor\":\"#2a3f5f\"},\"baxis\":{\"endlinecolor\":\"#2a3f5f\",\"gridcolor\":\"#C8D4E3\",\"linecolor\":\"#C8D4E3\",\"minorgridcolor\":\"#C8D4E3\",\"startlinecolor\":\"#2a3f5f\"},\"type\":\"carpet\"}],\"choropleth\":[{\"colorbar\":{\"outlinewidth\":0,\"ticks\":\"\"},\"type\":\"choropleth\"}],\"contourcarpet\":[{\"colorbar\":{\"outlinewidth\":0,\"ticks\":\"\"},\"type\":\"contourcarpet\"}],\"contour\":[{\"colorbar\":{\"outlinewidth\":0,\"ticks\":\"\"},\"colorscale\":[[0.0,\"#0d0887\"],[0.1111111111111111,\"#46039f\"],[0.2222222222222222,\"#7201a8\"],[0.3333333333333333,\"#9c179e\"],[0.4444444444444444,\"#bd3786\"],[0.5555555555555556,\"#d8576b\"],[0.6666666666666666,\"#ed7953\"],[0.7777777777777778,\"#fb9f3a\"],[0.8888888888888888,\"#fdca26\"],[1.0,\"#f0f921\"]],\"type\":\"contour\"}],\"heatmapgl\":[{\"colorbar\":{\"outlinewidth\":0,\"ticks\":\"\"},\"colorscale\":[[0.0,\"#0d0887\"],[0.1111111111111111,\"#46039f\"],[0.2222222222222222,\"#7201a8\"],[0.3333333333333333,\"#9c179e\"],[0.4444444444444444,\"#bd3786\"],[0.5555555555555556,\"#d8576b\"],[0.6666666666666666,\"#ed7953\"],[0.7777777777777778,\"#fb9f3a\"],[0.8888888888888888,\"#fdca26\"],[1.0,\"#f0f921\"]],\"type\":\"heatmapgl\"}],\"heatmap\":[{\"colorbar\":{\"outlinewidth\":0,\"ticks\":\"\"},\"colorscale\":[[0.0,\"#0d0887\"],[0.1111111111111111,\"#46039f\"],[0.2222222222222222,\"#7201a8\"],[0.3333333333333333,\"#9c179e\"],[0.4444444444444444,\"#bd3786\"],[0.5555555555555556,\"#d8576b\"],[0.6666666666666666,\"#ed7953\"],[0.7777777777777778,\"#fb9f3a\"],[0.8888888888888888,\"#fdca26\"],[1.0,\"#f0f921\"]],\"type\":\"heatmap\"}],\"histogram2dcontour\":[{\"colorbar\":{\"outlinewidth\":0,\"ticks\":\"\"},\"colorscale\":[[0.0,\"#0d0887\"],[0.1111111111111111,\"#46039f\"],[0.2222222222222222,\"#7201a8\"],[0.3333333333333333,\"#9c179e\"],[0.4444444444444444,\"#bd3786\"],[0.5555555555555556,\"#d8576b\"],[0.6666666666666666,\"#ed7953\"],[0.7777777777777778,\"#fb9f3a\"],[0.8888888888888888,\"#fdca26\"],[1.0,\"#f0f921\"]],\"type\":\"histogram2dcontour\"}],\"histogram2d\":[{\"colorbar\":{\"outlinewidth\":0,\"ticks\":\"\"},\"colorscale\":[[0.0,\"#0d0887\"],[0.1111111111111111,\"#46039f\"],[0.2222222222222222,\"#7201a8\"],[0.3333333333333333,\"#9c179e\"],[0.4444444444444444,\"#bd3786\"],[0.5555555555555556,\"#d8576b\"],[0.6666666666666666,\"#ed7953\"],[0.7777777777777778,\"#fb9f3a\"],[0.8888888888888888,\"#fdca26\"],[1.0,\"#f0f921\"]],\"type\":\"histogram2d\"}],\"histogram\":[{\"marker\":{\"pattern\":{\"fillmode\":\"overlay\",\"size\":10,\"solidity\":0.2}},\"type\":\"histogram\"}],\"mesh3d\":[{\"colorbar\":{\"outlinewidth\":0,\"ticks\":\"\"},\"type\":\"mesh3d\"}],\"parcoords\":[{\"line\":{\"colorbar\":{\"outlinewidth\":0,\"ticks\":\"\"}},\"type\":\"parcoords\"}],\"pie\":[{\"automargin\":true,\"type\":\"pie\"}],\"scatter3d\":[{\"line\":{\"colorbar\":{\"outlinewidth\":0,\"ticks\":\"\"}},\"marker\":{\"colorbar\":{\"outlinewidth\":0,\"ticks\":\"\"}},\"type\":\"scatter3d\"}],\"scattercarpet\":[{\"marker\":{\"colorbar\":{\"outlinewidth\":0,\"ticks\":\"\"}},\"type\":\"scattercarpet\"}],\"scattergeo\":[{\"marker\":{\"colorbar\":{\"outlinewidth\":0,\"ticks\":\"\"}},\"type\":\"scattergeo\"}],\"scattergl\":[{\"marker\":{\"colorbar\":{\"outlinewidth\":0,\"ticks\":\"\"}},\"type\":\"scattergl\"}],\"scattermapbox\":[{\"marker\":{\"colorbar\":{\"outlinewidth\":0,\"ticks\":\"\"}},\"type\":\"scattermapbox\"}],\"scatterpolargl\":[{\"marker\":{\"colorbar\":{\"outlinewidth\":0,\"ticks\":\"\"}},\"type\":\"scatterpolargl\"}],\"scatterpolar\":[{\"marker\":{\"colorbar\":{\"outlinewidth\":0,\"ticks\":\"\"}},\"type\":\"scatterpolar\"}],\"scatter\":[{\"fillpattern\":{\"fillmode\":\"overlay\",\"size\":10,\"solidity\":0.2},\"type\":\"scatter\"}],\"scatterternary\":[{\"marker\":{\"colorbar\":{\"outlinewidth\":0,\"ticks\":\"\"}},\"type\":\"scatterternary\"}],\"surface\":[{\"colorbar\":{\"outlinewidth\":0,\"ticks\":\"\"},\"colorscale\":[[0.0,\"#0d0887\"],[0.1111111111111111,\"#46039f\"],[0.2222222222222222,\"#7201a8\"],[0.3333333333333333,\"#9c179e\"],[0.4444444444444444,\"#bd3786\"],[0.5555555555555556,\"#d8576b\"],[0.6666666666666666,\"#ed7953\"],[0.7777777777777778,\"#fb9f3a\"],[0.8888888888888888,\"#fdca26\"],[1.0,\"#f0f921\"]],\"type\":\"surface\"}],\"table\":[{\"cells\":{\"fill\":{\"color\":\"#EBF0F8\"},\"line\":{\"color\":\"white\"}},\"header\":{\"fill\":{\"color\":\"#C8D4E3\"},\"line\":{\"color\":\"white\"}},\"type\":\"table\"}]},\"layout\":{\"annotationdefaults\":{\"arrowcolor\":\"#2a3f5f\",\"arrowhead\":0,\"arrowwidth\":1},\"autotypenumbers\":\"strict\",\"coloraxis\":{\"colorbar\":{\"outlinewidth\":0,\"ticks\":\"\"}},\"colorscale\":{\"diverging\":[[0,\"#8e0152\"],[0.1,\"#c51b7d\"],[0.2,\"#de77ae\"],[0.3,\"#f1b6da\"],[0.4,\"#fde0ef\"],[0.5,\"#f7f7f7\"],[0.6,\"#e6f5d0\"],[0.7,\"#b8e186\"],[0.8,\"#7fbc41\"],[0.9,\"#4d9221\"],[1,\"#276419\"]],\"sequential\":[[0.0,\"#0d0887\"],[0.1111111111111111,\"#46039f\"],[0.2222222222222222,\"#7201a8\"],[0.3333333333333333,\"#9c179e\"],[0.4444444444444444,\"#bd3786\"],[0.5555555555555556,\"#d8576b\"],[0.6666666666666666,\"#ed7953\"],[0.7777777777777778,\"#fb9f3a\"],[0.8888888888888888,\"#fdca26\"],[1.0,\"#f0f921\"]],\"sequentialminus\":[[0.0,\"#0d0887\"],[0.1111111111111111,\"#46039f\"],[0.2222222222222222,\"#7201a8\"],[0.3333333333333333,\"#9c179e\"],[0.4444444444444444,\"#bd3786\"],[0.5555555555555556,\"#d8576b\"],[0.6666666666666666,\"#ed7953\"],[0.7777777777777778,\"#fb9f3a\"],[0.8888888888888888,\"#fdca26\"],[1.0,\"#f0f921\"]]},\"colorway\":[\"#636efa\",\"#EF553B\",\"#00cc96\",\"#ab63fa\",\"#FFA15A\",\"#19d3f3\",\"#FF6692\",\"#B6E880\",\"#FF97FF\",\"#FECB52\"],\"font\":{\"color\":\"#2a3f5f\"},\"geo\":{\"bgcolor\":\"white\",\"lakecolor\":\"white\",\"landcolor\":\"white\",\"showlakes\":true,\"showland\":true,\"subunitcolor\":\"#C8D4E3\"},\"hoverlabel\":{\"align\":\"left\"},\"hovermode\":\"closest\",\"mapbox\":{\"style\":\"light\"},\"paper_bgcolor\":\"white\",\"plot_bgcolor\":\"white\",\"polar\":{\"angularaxis\":{\"gridcolor\":\"#EBF0F8\",\"linecolor\":\"#EBF0F8\",\"ticks\":\"\"},\"bgcolor\":\"white\",\"radialaxis\":{\"gridcolor\":\"#EBF0F8\",\"linecolor\":\"#EBF0F8\",\"ticks\":\"\"}},\"scene\":{\"xaxis\":{\"backgroundcolor\":\"white\",\"gridcolor\":\"#DFE8F3\",\"gridwidth\":2,\"linecolor\":\"#EBF0F8\",\"showbackground\":true,\"ticks\":\"\",\"zerolinecolor\":\"#EBF0F8\"},\"yaxis\":{\"backgroundcolor\":\"white\",\"gridcolor\":\"#DFE8F3\",\"gridwidth\":2,\"linecolor\":\"#EBF0F8\",\"showbackground\":true,\"ticks\":\"\",\"zerolinecolor\":\"#EBF0F8\"},\"zaxis\":{\"backgroundcolor\":\"white\",\"gridcolor\":\"#DFE8F3\",\"gridwidth\":2,\"linecolor\":\"#EBF0F8\",\"showbackground\":true,\"ticks\":\"\",\"zerolinecolor\":\"#EBF0F8\"}},\"shapedefaults\":{\"line\":{\"color\":\"#2a3f5f\"}},\"ternary\":{\"aaxis\":{\"gridcolor\":\"#DFE8F3\",\"linecolor\":\"#A2B1C6\",\"ticks\":\"\"},\"baxis\":{\"gridcolor\":\"#DFE8F3\",\"linecolor\":\"#A2B1C6\",\"ticks\":\"\"},\"bgcolor\":\"white\",\"caxis\":{\"gridcolor\":\"#DFE8F3\",\"linecolor\":\"#A2B1C6\",\"ticks\":\"\"}},\"title\":{\"x\":0.05},\"xaxis\":{\"automargin\":true,\"gridcolor\":\"#EBF0F8\",\"linecolor\":\"#EBF0F8\",\"ticks\":\"\",\"title\":{\"standoff\":15},\"zerolinecolor\":\"#EBF0F8\",\"zerolinewidth\":2},\"yaxis\":{\"automargin\":true,\"gridcolor\":\"#EBF0F8\",\"linecolor\":\"#EBF0F8\",\"ticks\":\"\",\"title\":{\"standoff\":15},\"zerolinecolor\":\"#EBF0F8\",\"zerolinewidth\":2}}},\"xaxis\":{\"anchor\":\"y\",\"domain\":[0.0,0.175],\"showgrid\":true},\"yaxis\":{\"anchor\":\"x\",\"domain\":[0.7555555555555555,1.0],\"showgrid\":true},\"xaxis2\":{\"anchor\":\"y2\",\"domain\":[0.275,0.45],\"showgrid\":true},\"yaxis2\":{\"anchor\":\"x2\",\"domain\":[0.7555555555555555,1.0],\"showgrid\":true},\"xaxis3\":{\"anchor\":\"y3\",\"domain\":[0.55,0.7250000000000001],\"showgrid\":true},\"yaxis3\":{\"anchor\":\"x3\",\"domain\":[0.7555555555555555,1.0],\"showgrid\":true},\"xaxis4\":{\"anchor\":\"y4\",\"domain\":[0.825,1.0],\"showgrid\":true},\"yaxis4\":{\"anchor\":\"x4\",\"domain\":[0.7555555555555555,1.0],\"showgrid\":true},\"xaxis5\":{\"anchor\":\"y5\",\"domain\":[0.0,0.175],\"showgrid\":true},\"yaxis5\":{\"anchor\":\"x5\",\"domain\":[0.37777777777777777,0.6222222222222222],\"showgrid\":true},\"xaxis6\":{\"anchor\":\"y6\",\"domain\":[0.275,0.45],\"showgrid\":true},\"yaxis6\":{\"anchor\":\"x6\",\"domain\":[0.37777777777777777,0.6222222222222222],\"showgrid\":true},\"xaxis7\":{\"anchor\":\"y7\",\"domain\":[0.55,0.7250000000000001],\"showgrid\":true},\"yaxis7\":{\"anchor\":\"x7\",\"domain\":[0.37777777777777777,0.6222222222222222],\"showgrid\":true},\"xaxis8\":{\"anchor\":\"y8\",\"domain\":[0.825,1.0],\"showgrid\":true},\"yaxis8\":{\"anchor\":\"x8\",\"domain\":[0.37777777777777777,0.6222222222222222],\"showgrid\":true},\"xaxis9\":{\"anchor\":\"y9\",\"domain\":[0.0,0.175],\"showgrid\":true},\"yaxis9\":{\"anchor\":\"x9\",\"domain\":[0.0,0.24444444444444446],\"showgrid\":true},\"xaxis10\":{\"anchor\":\"y10\",\"domain\":[0.275,0.45],\"showgrid\":true},\"yaxis10\":{\"anchor\":\"x10\",\"domain\":[0.0,0.24444444444444446],\"showgrid\":true},\"xaxis11\":{\"anchor\":\"y11\",\"domain\":[0.55,0.7250000000000001],\"showgrid\":true},\"yaxis11\":{\"anchor\":\"x11\",\"domain\":[0.0,0.24444444444444446],\"showgrid\":true},\"xaxis12\":{\"anchor\":\"y12\",\"domain\":[0.825,1.0],\"showgrid\":true},\"yaxis12\":{\"anchor\":\"x12\",\"domain\":[0.0,0.24444444444444446],\"showgrid\":true},\"annotations\":[{\"font\":{\"size\":16},\"showarrow\":false,\"text\":\"Topic 0\",\"x\":0.0875,\"xanchor\":\"center\",\"xref\":\"paper\",\"y\":1.0,\"yanchor\":\"bottom\",\"yref\":\"paper\"},{\"font\":{\"size\":16},\"showarrow\":false,\"text\":\"Topic 1\",\"x\":0.36250000000000004,\"xanchor\":\"center\",\"xref\":\"paper\",\"y\":1.0,\"yanchor\":\"bottom\",\"yref\":\"paper\"},{\"font\":{\"size\":16},\"showarrow\":false,\"text\":\"Topic 2\",\"x\":0.6375000000000001,\"xanchor\":\"center\",\"xref\":\"paper\",\"y\":1.0,\"yanchor\":\"bottom\",\"yref\":\"paper\"},{\"font\":{\"size\":16},\"showarrow\":false,\"text\":\"Topic 3\",\"x\":0.9125,\"xanchor\":\"center\",\"xref\":\"paper\",\"y\":1.0,\"yanchor\":\"bottom\",\"yref\":\"paper\"},{\"font\":{\"size\":16},\"showarrow\":false,\"text\":\"Topic 4\",\"x\":0.0875,\"xanchor\":\"center\",\"xref\":\"paper\",\"y\":0.6222222222222222,\"yanchor\":\"bottom\",\"yref\":\"paper\"},{\"font\":{\"size\":16},\"showarrow\":false,\"text\":\"Topic 5\",\"x\":0.36250000000000004,\"xanchor\":\"center\",\"xref\":\"paper\",\"y\":0.6222222222222222,\"yanchor\":\"bottom\",\"yref\":\"paper\"},{\"font\":{\"size\":16},\"showarrow\":false,\"text\":\"Topic 6\",\"x\":0.6375000000000001,\"xanchor\":\"center\",\"xref\":\"paper\",\"y\":0.6222222222222222,\"yanchor\":\"bottom\",\"yref\":\"paper\"},{\"font\":{\"size\":16},\"showarrow\":false,\"text\":\"Topic 7\",\"x\":0.9125,\"xanchor\":\"center\",\"xref\":\"paper\",\"y\":0.6222222222222222,\"yanchor\":\"bottom\",\"yref\":\"paper\"},{\"font\":{\"size\":16},\"showarrow\":false,\"text\":\"Topic 8\",\"x\":0.0875,\"xanchor\":\"center\",\"xref\":\"paper\",\"y\":0.24444444444444446,\"yanchor\":\"bottom\",\"yref\":\"paper\"},{\"font\":{\"size\":16},\"showarrow\":false,\"text\":\"Topic 9\",\"x\":0.36250000000000004,\"xanchor\":\"center\",\"xref\":\"paper\",\"y\":0.24444444444444446,\"yanchor\":\"bottom\",\"yref\":\"paper\"}],\"title\":{\"font\":{\"size\":22,\"color\":\"Black\"},\"text\":\"Topic Word Scores\",\"x\":0.5,\"xanchor\":\"center\",\"yanchor\":\"top\"},\"hoverlabel\":{\"font\":{\"size\":16,\"family\":\"Rockwell\"},\"bgcolor\":\"white\"},\"showlegend\":false,\"width\":1000,\"height\":750},                        {\"responsive\": true}                    ).then(function(){\n",
              "                            \n",
              "var gd = document.getElementById('cef1ceec-cd74-4c3c-b043-979de1c68d5b');\n",
              "var x = new MutationObserver(function (mutations, observer) {{\n",
              "        var display = window.getComputedStyle(gd).display;\n",
              "        if (!display || display === 'none') {{\n",
              "            console.log([gd, 'removed!']);\n",
              "            Plotly.purge(gd);\n",
              "            observer.disconnect();\n",
              "        }}\n",
              "}});\n",
              "\n",
              "// Listen for the removal of the full notebook cells\n",
              "var notebookContainer = gd.closest('#notebook-container');\n",
              "if (notebookContainer) {{\n",
              "    x.observe(notebookContainer, {childList: true});\n",
              "}}\n",
              "\n",
              "// Listen for the clearing of the current output cell\n",
              "var outputEl = gd.closest('.output');\n",
              "if (outputEl) {{\n",
              "    x.observe(outputEl, {childList: true});\n",
              "}}\n",
              "\n",
              "                        })                };                            </script>        </div>\n",
              "</body>\n",
              "</html>"
            ]
          },
          "metadata": {}
        }
      ]
    },
    {
      "cell_type": "code",
      "source": [
        "modelo.visualize_hierarchy(top_n_topics=15)"
      ],
      "metadata": {
        "colab": {
          "base_uri": "https://localhost:8080/",
          "height": 442
        },
        "id": "kunkRVi-01hY",
        "outputId": "4f04727d-c570-4c65-9622-87ae34ba6635"
      },
      "execution_count": 40,
      "outputs": [
        {
          "output_type": "display_data",
          "data": {
            "text/html": [
              "<html>\n",
              "<head><meta charset=\"utf-8\" /></head>\n",
              "<body>\n",
              "    <div>            <script src=\"https://cdnjs.cloudflare.com/ajax/libs/mathjax/2.7.5/MathJax.js?config=TeX-AMS-MML_SVG\"></script><script type=\"text/javascript\">if (window.MathJax && window.MathJax.Hub && window.MathJax.Hub.Config) {window.MathJax.Hub.Config({SVG: {font: \"STIX-Web\"}});}</script>                <script type=\"text/javascript\">window.PlotlyConfig = {MathJaxConfig: 'local'};</script>\n",
              "        <script charset=\"utf-8\" src=\"https://cdn.plot.ly/plotly-2.24.1.min.js\"></script>                <div id=\"028c9c03-e9c5-4178-b698-b7b030723f8d\" class=\"plotly-graph-div\" style=\"height:425px; width:1000px;\"></div>            <script type=\"text/javascript\">                                    window.PLOTLYENV=window.PLOTLYENV || {};                                    if (document.getElementById(\"028c9c03-e9c5-4178-b698-b7b030723f8d\")) {                    Plotly.newPlot(                        \"028c9c03-e9c5-4178-b698-b7b030723f8d\",                        [{\"hoverinfo\":\"text\",\"marker\":{\"color\":\"rgb(61,153,112)\"},\"mode\":\"lines\",\"x\":[0.0,0.3135464063844765,0.3135464063844765,0.0],\"xaxis\":\"x\",\"y\":[-25.0,-25.0,-35.0,-35.0],\"yaxis\":\"y\",\"type\":\"scatter\"},{\"hoverinfo\":\"text\",\"marker\":{\"color\":\"rgb(61,153,112)\"},\"mode\":\"lines\",\"x\":[0.0,0.594615566821151,0.594615566821151,0.3135464063844765],\"xaxis\":\"x\",\"y\":[-15.0,-15.0,-30.0,-30.0],\"yaxis\":\"y\",\"type\":\"scatter\"},{\"hoverinfo\":\"text\",\"marker\":{\"color\":\"rgb(61,153,112)\"},\"mode\":\"lines\",\"x\":[0.594615566821151,0.6265755791228712,0.6265755791228712,0.0],\"xaxis\":\"x\",\"y\":[-22.5,-22.5,-45.0,-45.0],\"yaxis\":\"y\",\"type\":\"scatter\"},{\"hoverinfo\":\"text\",\"marker\":{\"color\":\"rgb(61,153,112)\"},\"mode\":\"lines\",\"x\":[0.0,0.7304085214180409,0.7304085214180409,0.6265755791228712],\"xaxis\":\"x\",\"y\":[-5.0,-5.0,-33.75,-33.75],\"yaxis\":\"y\",\"type\":\"scatter\"},{\"hoverinfo\":\"text\",\"marker\":{\"color\":\"rgb(61,153,112)\"},\"mode\":\"lines\",\"x\":[0.0,0.2818932301543827,0.2818932301543827,0.0],\"xaxis\":\"x\",\"y\":[-65.0,-65.0,-75.0,-75.0],\"yaxis\":\"y\",\"type\":\"scatter\"},{\"hoverinfo\":\"text\",\"marker\":{\"color\":\"rgb(61,153,112)\"},\"mode\":\"lines\",\"x\":[0.2818932301543827,0.4252555738851375,0.4252555738851375,0.0],\"xaxis\":\"x\",\"y\":[-70.0,-70.0,-85.0,-85.0],\"yaxis\":\"y\",\"type\":\"scatter\"},{\"hoverinfo\":\"text\",\"marker\":{\"color\":\"rgb(61,153,112)\"},\"mode\":\"lines\",\"x\":[0.0,0.5144755179679342,0.5144755179679342,0.4252555738851375],\"xaxis\":\"x\",\"y\":[-55.0,-55.0,-77.5,-77.5],\"yaxis\":\"y\",\"type\":\"scatter\"},{\"hoverinfo\":\"text\",\"marker\":{\"color\":\"rgb(61,153,112)\"},\"mode\":\"lines\",\"x\":[0.0,0.2560277616723443,0.2560277616723443,0.0],\"xaxis\":\"x\",\"y\":[-95.0,-95.0,-105.0,-105.0],\"yaxis\":\"y\",\"type\":\"scatter\"},{\"hoverinfo\":\"text\",\"marker\":{\"color\":\"rgb(61,153,112)\"},\"mode\":\"lines\",\"x\":[0.2560277616723443,0.4291045306298553,0.4291045306298553,0.0],\"xaxis\":\"x\",\"y\":[-100.0,-100.0,-115.0,-115.0],\"yaxis\":\"y\",\"type\":\"scatter\"},{\"hoverinfo\":\"text\",\"marker\":{\"color\":\"rgb(61,153,112)\"},\"mode\":\"lines\",\"x\":[0.5144755179679342,0.7033967096317449,0.7033967096317449,0.4291045306298553],\"xaxis\":\"x\",\"y\":[-66.25,-66.25,-107.5,-107.5],\"yaxis\":\"y\",\"type\":\"scatter\"},{\"hoverinfo\":\"text\",\"marker\":{\"color\":\"rgb(61,153,112)\"},\"mode\":\"lines\",\"x\":[0.7304085214180409,0.8732950093874189,0.8732950093874189,0.7033967096317449],\"xaxis\":\"x\",\"y\":[-19.375,-19.375,-86.875,-86.875],\"yaxis\":\"y\",\"type\":\"scatter\"},{\"hoverinfo\":\"text\",\"marker\":{\"color\":\"rgb(255,65,54)\"},\"mode\":\"lines\",\"x\":[0.0,0.9925671510684982,0.9925671510684982,0.0],\"xaxis\":\"x\",\"y\":[-125.0,-125.0,-135.0,-135.0],\"yaxis\":\"y\",\"type\":\"scatter\"},{\"hoverinfo\":\"text\",\"marker\":{\"color\":\"rgb(0,116,217)\"},\"mode\":\"lines\",\"x\":[0.9925671510684982,1.002465369413455,1.002465369413455,0.0],\"xaxis\":\"x\",\"y\":[-130.0,-130.0,-145.0,-145.0],\"yaxis\":\"y\",\"type\":\"scatter\"},{\"hoverinfo\":\"text\",\"marker\":{\"color\":\"rgb(0,116,217)\"},\"mode\":\"lines\",\"x\":[0.8732950093874189,1.2861709256636462,1.2861709256636462,1.002465369413455],\"xaxis\":\"x\",\"y\":[-53.125,-53.125,-137.5,-137.5],\"yaxis\":\"y\",\"type\":\"scatter\"}],                        {\"autosize\":false,\"height\":425,\"hovermode\":\"closest\",\"showlegend\":false,\"width\":1000,\"xaxis\":{\"mirror\":\"allticks\",\"rangemode\":\"tozero\",\"showgrid\":false,\"showline\":true,\"showticklabels\":true,\"ticks\":\"outside\",\"type\":\"linear\",\"zeroline\":false},\"yaxis\":{\"mirror\":\"allticks\",\"rangemode\":\"tozero\",\"showgrid\":false,\"showline\":true,\"showticklabels\":true,\"tickmode\":\"array\",\"ticks\":\"outside\",\"ticktext\":[\"11_grandes_durante_estruturas\",\"10_produ\\u00e7\\u00e3o_grande_\\u00e1reas\",\"8_qualidade_sobre_grande\",\"5_estruturas_sobre_grande\",\"1_tempo_maior_cada\",\"2_sistema_atrav\\u00e9s_podem\",\"3_estudo_ci\\u00eancia_fun\\u00e7\\u00e3o\",\"6_estudo_\\u00e1reas_podem\",\"7_atrav\\u00e9s_estudo_partir\",\"4_forma_engenharia_sistemas\",\"0_engenharia_sistemas_contr...\",\"9_engenharia_principalmente...\",\"12_refer\\u00eancias_trabalho_sobre\",\"13_origem_engenharia_\",\"14_13_sendo_estruturas\"],\"tickvals\":[-5.0,-15.0,-25.0,-35.0,-45.0,-55.0,-65.0,-75.0,-85.0,-95.0,-105.0,-115.0,-125.0,-135.0,-145.0],\"type\":\"linear\",\"zeroline\":false,\"range\":[-150.0,0.0]},\"template\":{\"data\":{\"barpolar\":[{\"marker\":{\"line\":{\"color\":\"white\",\"width\":0.5},\"pattern\":{\"fillmode\":\"overlay\",\"size\":10,\"solidity\":0.2}},\"type\":\"barpolar\"}],\"bar\":[{\"error_x\":{\"color\":\"#2a3f5f\"},\"error_y\":{\"color\":\"#2a3f5f\"},\"marker\":{\"line\":{\"color\":\"white\",\"width\":0.5},\"pattern\":{\"fillmode\":\"overlay\",\"size\":10,\"solidity\":0.2}},\"type\":\"bar\"}],\"carpet\":[{\"aaxis\":{\"endlinecolor\":\"#2a3f5f\",\"gridcolor\":\"#C8D4E3\",\"linecolor\":\"#C8D4E3\",\"minorgridcolor\":\"#C8D4E3\",\"startlinecolor\":\"#2a3f5f\"},\"baxis\":{\"endlinecolor\":\"#2a3f5f\",\"gridcolor\":\"#C8D4E3\",\"linecolor\":\"#C8D4E3\",\"minorgridcolor\":\"#C8D4E3\",\"startlinecolor\":\"#2a3f5f\"},\"type\":\"carpet\"}],\"choropleth\":[{\"colorbar\":{\"outlinewidth\":0,\"ticks\":\"\"},\"type\":\"choropleth\"}],\"contourcarpet\":[{\"colorbar\":{\"outlinewidth\":0,\"ticks\":\"\"},\"type\":\"contourcarpet\"}],\"contour\":[{\"colorbar\":{\"outlinewidth\":0,\"ticks\":\"\"},\"colorscale\":[[0.0,\"#0d0887\"],[0.1111111111111111,\"#46039f\"],[0.2222222222222222,\"#7201a8\"],[0.3333333333333333,\"#9c179e\"],[0.4444444444444444,\"#bd3786\"],[0.5555555555555556,\"#d8576b\"],[0.6666666666666666,\"#ed7953\"],[0.7777777777777778,\"#fb9f3a\"],[0.8888888888888888,\"#fdca26\"],[1.0,\"#f0f921\"]],\"type\":\"contour\"}],\"heatmapgl\":[{\"colorbar\":{\"outlinewidth\":0,\"ticks\":\"\"},\"colorscale\":[[0.0,\"#0d0887\"],[0.1111111111111111,\"#46039f\"],[0.2222222222222222,\"#7201a8\"],[0.3333333333333333,\"#9c179e\"],[0.4444444444444444,\"#bd3786\"],[0.5555555555555556,\"#d8576b\"],[0.6666666666666666,\"#ed7953\"],[0.7777777777777778,\"#fb9f3a\"],[0.8888888888888888,\"#fdca26\"],[1.0,\"#f0f921\"]],\"type\":\"heatmapgl\"}],\"heatmap\":[{\"colorbar\":{\"outlinewidth\":0,\"ticks\":\"\"},\"colorscale\":[[0.0,\"#0d0887\"],[0.1111111111111111,\"#46039f\"],[0.2222222222222222,\"#7201a8\"],[0.3333333333333333,\"#9c179e\"],[0.4444444444444444,\"#bd3786\"],[0.5555555555555556,\"#d8576b\"],[0.6666666666666666,\"#ed7953\"],[0.7777777777777778,\"#fb9f3a\"],[0.8888888888888888,\"#fdca26\"],[1.0,\"#f0f921\"]],\"type\":\"heatmap\"}],\"histogram2dcontour\":[{\"colorbar\":{\"outlinewidth\":0,\"ticks\":\"\"},\"colorscale\":[[0.0,\"#0d0887\"],[0.1111111111111111,\"#46039f\"],[0.2222222222222222,\"#7201a8\"],[0.3333333333333333,\"#9c179e\"],[0.4444444444444444,\"#bd3786\"],[0.5555555555555556,\"#d8576b\"],[0.6666666666666666,\"#ed7953\"],[0.7777777777777778,\"#fb9f3a\"],[0.8888888888888888,\"#fdca26\"],[1.0,\"#f0f921\"]],\"type\":\"histogram2dcontour\"}],\"histogram2d\":[{\"colorbar\":{\"outlinewidth\":0,\"ticks\":\"\"},\"colorscale\":[[0.0,\"#0d0887\"],[0.1111111111111111,\"#46039f\"],[0.2222222222222222,\"#7201a8\"],[0.3333333333333333,\"#9c179e\"],[0.4444444444444444,\"#bd3786\"],[0.5555555555555556,\"#d8576b\"],[0.6666666666666666,\"#ed7953\"],[0.7777777777777778,\"#fb9f3a\"],[0.8888888888888888,\"#fdca26\"],[1.0,\"#f0f921\"]],\"type\":\"histogram2d\"}],\"histogram\":[{\"marker\":{\"pattern\":{\"fillmode\":\"overlay\",\"size\":10,\"solidity\":0.2}},\"type\":\"histogram\"}],\"mesh3d\":[{\"colorbar\":{\"outlinewidth\":0,\"ticks\":\"\"},\"type\":\"mesh3d\"}],\"parcoords\":[{\"line\":{\"colorbar\":{\"outlinewidth\":0,\"ticks\":\"\"}},\"type\":\"parcoords\"}],\"pie\":[{\"automargin\":true,\"type\":\"pie\"}],\"scatter3d\":[{\"line\":{\"colorbar\":{\"outlinewidth\":0,\"ticks\":\"\"}},\"marker\":{\"colorbar\":{\"outlinewidth\":0,\"ticks\":\"\"}},\"type\":\"scatter3d\"}],\"scattercarpet\":[{\"marker\":{\"colorbar\":{\"outlinewidth\":0,\"ticks\":\"\"}},\"type\":\"scattercarpet\"}],\"scattergeo\":[{\"marker\":{\"colorbar\":{\"outlinewidth\":0,\"ticks\":\"\"}},\"type\":\"scattergeo\"}],\"scattergl\":[{\"marker\":{\"colorbar\":{\"outlinewidth\":0,\"ticks\":\"\"}},\"type\":\"scattergl\"}],\"scattermapbox\":[{\"marker\":{\"colorbar\":{\"outlinewidth\":0,\"ticks\":\"\"}},\"type\":\"scattermapbox\"}],\"scatterpolargl\":[{\"marker\":{\"colorbar\":{\"outlinewidth\":0,\"ticks\":\"\"}},\"type\":\"scatterpolargl\"}],\"scatterpolar\":[{\"marker\":{\"colorbar\":{\"outlinewidth\":0,\"ticks\":\"\"}},\"type\":\"scatterpolar\"}],\"scatter\":[{\"fillpattern\":{\"fillmode\":\"overlay\",\"size\":10,\"solidity\":0.2},\"type\":\"scatter\"}],\"scatterternary\":[{\"marker\":{\"colorbar\":{\"outlinewidth\":0,\"ticks\":\"\"}},\"type\":\"scatterternary\"}],\"surface\":[{\"colorbar\":{\"outlinewidth\":0,\"ticks\":\"\"},\"colorscale\":[[0.0,\"#0d0887\"],[0.1111111111111111,\"#46039f\"],[0.2222222222222222,\"#7201a8\"],[0.3333333333333333,\"#9c179e\"],[0.4444444444444444,\"#bd3786\"],[0.5555555555555556,\"#d8576b\"],[0.6666666666666666,\"#ed7953\"],[0.7777777777777778,\"#fb9f3a\"],[0.8888888888888888,\"#fdca26\"],[1.0,\"#f0f921\"]],\"type\":\"surface\"}],\"table\":[{\"cells\":{\"fill\":{\"color\":\"#EBF0F8\"},\"line\":{\"color\":\"white\"}},\"header\":{\"fill\":{\"color\":\"#C8D4E3\"},\"line\":{\"color\":\"white\"}},\"type\":\"table\"}]},\"layout\":{\"annotationdefaults\":{\"arrowcolor\":\"#2a3f5f\",\"arrowhead\":0,\"arrowwidth\":1},\"autotypenumbers\":\"strict\",\"coloraxis\":{\"colorbar\":{\"outlinewidth\":0,\"ticks\":\"\"}},\"colorscale\":{\"diverging\":[[0,\"#8e0152\"],[0.1,\"#c51b7d\"],[0.2,\"#de77ae\"],[0.3,\"#f1b6da\"],[0.4,\"#fde0ef\"],[0.5,\"#f7f7f7\"],[0.6,\"#e6f5d0\"],[0.7,\"#b8e186\"],[0.8,\"#7fbc41\"],[0.9,\"#4d9221\"],[1,\"#276419\"]],\"sequential\":[[0.0,\"#0d0887\"],[0.1111111111111111,\"#46039f\"],[0.2222222222222222,\"#7201a8\"],[0.3333333333333333,\"#9c179e\"],[0.4444444444444444,\"#bd3786\"],[0.5555555555555556,\"#d8576b\"],[0.6666666666666666,\"#ed7953\"],[0.7777777777777778,\"#fb9f3a\"],[0.8888888888888888,\"#fdca26\"],[1.0,\"#f0f921\"]],\"sequentialminus\":[[0.0,\"#0d0887\"],[0.1111111111111111,\"#46039f\"],[0.2222222222222222,\"#7201a8\"],[0.3333333333333333,\"#9c179e\"],[0.4444444444444444,\"#bd3786\"],[0.5555555555555556,\"#d8576b\"],[0.6666666666666666,\"#ed7953\"],[0.7777777777777778,\"#fb9f3a\"],[0.8888888888888888,\"#fdca26\"],[1.0,\"#f0f921\"]]},\"colorway\":[\"#636efa\",\"#EF553B\",\"#00cc96\",\"#ab63fa\",\"#FFA15A\",\"#19d3f3\",\"#FF6692\",\"#B6E880\",\"#FF97FF\",\"#FECB52\"],\"font\":{\"color\":\"#2a3f5f\"},\"geo\":{\"bgcolor\":\"white\",\"lakecolor\":\"white\",\"landcolor\":\"white\",\"showlakes\":true,\"showland\":true,\"subunitcolor\":\"#C8D4E3\"},\"hoverlabel\":{\"align\":\"left\"},\"hovermode\":\"closest\",\"mapbox\":{\"style\":\"light\"},\"paper_bgcolor\":\"white\",\"plot_bgcolor\":\"white\",\"polar\":{\"angularaxis\":{\"gridcolor\":\"#EBF0F8\",\"linecolor\":\"#EBF0F8\",\"ticks\":\"\"},\"bgcolor\":\"white\",\"radialaxis\":{\"gridcolor\":\"#EBF0F8\",\"linecolor\":\"#EBF0F8\",\"ticks\":\"\"}},\"scene\":{\"xaxis\":{\"backgroundcolor\":\"white\",\"gridcolor\":\"#DFE8F3\",\"gridwidth\":2,\"linecolor\":\"#EBF0F8\",\"showbackground\":true,\"ticks\":\"\",\"zerolinecolor\":\"#EBF0F8\"},\"yaxis\":{\"backgroundcolor\":\"white\",\"gridcolor\":\"#DFE8F3\",\"gridwidth\":2,\"linecolor\":\"#EBF0F8\",\"showbackground\":true,\"ticks\":\"\",\"zerolinecolor\":\"#EBF0F8\"},\"zaxis\":{\"backgroundcolor\":\"white\",\"gridcolor\":\"#DFE8F3\",\"gridwidth\":2,\"linecolor\":\"#EBF0F8\",\"showbackground\":true,\"ticks\":\"\",\"zerolinecolor\":\"#EBF0F8\"}},\"shapedefaults\":{\"line\":{\"color\":\"#2a3f5f\"}},\"ternary\":{\"aaxis\":{\"gridcolor\":\"#DFE8F3\",\"linecolor\":\"#A2B1C6\",\"ticks\":\"\"},\"baxis\":{\"gridcolor\":\"#DFE8F3\",\"linecolor\":\"#A2B1C6\",\"ticks\":\"\"},\"bgcolor\":\"white\",\"caxis\":{\"gridcolor\":\"#DFE8F3\",\"linecolor\":\"#A2B1C6\",\"ticks\":\"\"}},\"title\":{\"x\":0.05},\"xaxis\":{\"automargin\":true,\"gridcolor\":\"#EBF0F8\",\"linecolor\":\"#EBF0F8\",\"ticks\":\"\",\"title\":{\"standoff\":15},\"zerolinecolor\":\"#EBF0F8\",\"zerolinewidth\":2},\"yaxis\":{\"automargin\":true,\"gridcolor\":\"#EBF0F8\",\"linecolor\":\"#EBF0F8\",\"ticks\":\"\",\"title\":{\"standoff\":15},\"zerolinecolor\":\"#EBF0F8\",\"zerolinewidth\":2}}},\"title\":{\"font\":{\"size\":22,\"color\":\"Black\"},\"text\":\"\\u003cb\\u003eHierarchical Clustering\\u003c\\u002fb\\u003e\",\"x\":0.5,\"xanchor\":\"center\",\"yanchor\":\"top\"},\"hoverlabel\":{\"font\":{\"size\":16,\"family\":\"Rockwell\"},\"bgcolor\":\"white\"},\"plot_bgcolor\":\"#ECEFF1\"},                        {\"responsive\": true}                    ).then(function(){\n",
              "                            \n",
              "var gd = document.getElementById('028c9c03-e9c5-4178-b698-b7b030723f8d');\n",
              "var x = new MutationObserver(function (mutations, observer) {{\n",
              "        var display = window.getComputedStyle(gd).display;\n",
              "        if (!display || display === 'none') {{\n",
              "            console.log([gd, 'removed!']);\n",
              "            Plotly.purge(gd);\n",
              "            observer.disconnect();\n",
              "        }}\n",
              "}});\n",
              "\n",
              "// Listen for the removal of the full notebook cells\n",
              "var notebookContainer = gd.closest('#notebook-container');\n",
              "if (notebookContainer) {{\n",
              "    x.observe(notebookContainer, {childList: true});\n",
              "}}\n",
              "\n",
              "// Listen for the clearing of the current output cell\n",
              "var outputEl = gd.closest('.output');\n",
              "if (outputEl) {{\n",
              "    x.observe(outputEl, {childList: true});\n",
              "}}\n",
              "\n",
              "                        })                };                            </script>        </div>\n",
              "</body>\n",
              "</html>"
            ]
          },
          "metadata": {}
        }
      ]
    }
  ]
}