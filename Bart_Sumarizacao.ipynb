{
  "nbformat": 4,
  "nbformat_minor": 0,
  "metadata": {
    "colab": {
      "provenance": [],
      "authorship_tag": "ABX9TyOkcacg7wjHVxPB0K5rUoAf",
      "include_colab_link": true
    },
    "kernelspec": {
      "name": "python3",
      "display_name": "Python 3"
    },
    "language_info": {
      "name": "python"
    }
  },
  "cells": [
    {
      "cell_type": "markdown",
      "metadata": {
        "id": "view-in-github",
        "colab_type": "text"
      },
      "source": [
        "<a href=\"https://colab.research.google.com/github/matt-balda/pln-2023/blob/master/Bart_Sumarizacao.ipynb\" target=\"_parent\"><img src=\"https://colab.research.google.com/assets/colab-badge.svg\" alt=\"Open In Colab\"/></a>"
      ]
    },
    {
      "cell_type": "code",
      "source": [
        "!pip install transformers\n",
        "!pip install matplotlib"
      ],
      "metadata": {
        "id": "0k28_20x4JZH"
      },
      "execution_count": null,
      "outputs": []
    },
    {
      "cell_type": "code",
      "source": [
        "from transformers import AutoTokenizer, AutoModelForSeq2SeqLM"
      ],
      "metadata": {
        "id": "xP6flJk3Ifyt"
      },
      "execution_count": 33,
      "outputs": []
    },
    {
      "cell_type": "code",
      "execution_count": null,
      "metadata": {
        "id": "LY3KU61l3IwD"
      },
      "outputs": [],
      "source": [
        "tokenizer = AutoTokenizer.from_pretrained('facebook/bart-large-cnn')\n",
        "model = AutoModelForSeq2SeqLM.from_pretrained('facebook/bart-large-cnn')"
      ]
    },
    {
      "cell_type": "code",
      "source": [
        "text = '''\n",
        "Sob o manto da noite estrelada,\n",
        "O mundo adormece em doce calma,\n",
        "Enquanto a lua, luminosa e prateada,\n",
        "Tece sonhos de paz com sua palma.\n",
        "\n",
        "As estrelas cintilam no firmamento,\n",
        "Pontos de luz em um céu profundo,\n",
        "E o vento sussurra seu lamento,\n",
        "Contando segredos ao mundo.\n",
        "\n",
        "Na escuridão, a natureza se revela,\n",
        "Segredos antigos que ela guarda com zelo,\n",
        "No silêncio da noite, a alma se aquietava,\n",
        "E o poema da vida é escrito em elo.\n",
        "\n",
        "Neste cenário de serenidade e encanto,\n",
        "A noite desliza com seu toque de magia,\n",
        "E o mundo se entrega ao sono, adentra o recanto,\n",
        "Enquanto o poema da noite segue sua melodia.\n",
        "'''\n",
        "\n",
        "inputs = tokenizer(text, return_tensors=\"pt\", max_length=1024, truncation=True)"
      ],
      "metadata": {
        "id": "DRrKzB07KXir"
      },
      "execution_count": 40,
      "outputs": []
    },
    {
      "cell_type": "code",
      "source": [
        "resumo_ids = model.generate(inputs.input_ids, max_length=150, min_length=50, num_beams=4, early_stopping=True)"
      ],
      "metadata": {
        "id": "k-K6i_BPK1vT"
      },
      "execution_count": 41,
      "outputs": []
    },
    {
      "cell_type": "code",
      "source": [
        "resumo = tokenizer.decode(resumo_ids[0], skip_special_tokens=True)"
      ],
      "metadata": {
        "id": "kZ8B-jWDK7Ga"
      },
      "execution_count": 42,
      "outputs": []
    },
    {
      "cell_type": "code",
      "source": [
        "print(resumo)"
      ],
      "metadata": {
        "colab": {
          "base_uri": "https://localhost:8080/"
        },
        "id": "6VSw6-41NYdR",
        "outputId": "23627834-2553-44f0-e5d4-d0a601110db8"
      },
      "execution_count": 43,
      "outputs": [
        {
          "output_type": "stream",
          "name": "stdout",
          "text": [
            "A noite desliza com seu toque de magia. A natureza se revela. O poema da vida é escrito em elo. O sono se entrega ao sono, adentra o recanto.\n"
          ]
        }
      ]
    }
  ]
}