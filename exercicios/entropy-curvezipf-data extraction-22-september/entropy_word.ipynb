{
  "nbformat": 4,
  "nbformat_minor": 0,
  "metadata": {
    "colab": {
      "provenance": [],
      "authorship_tag": "ABX9TyNbOub001lnbbVPvTRO5YKL",
      "include_colab_link": true
    },
    "kernelspec": {
      "name": "python3",
      "display_name": "Python 3"
    },
    "language_info": {
      "name": "python"
    }
  },
  "cells": [
    {
      "cell_type": "markdown",
      "metadata": {
        "id": "view-in-github",
        "colab_type": "text"
      },
      "source": [
        "<a href=\"https://colab.research.google.com/github/matt-balda/pln-2023/blob/master/exercicios/Entropy_Word.ipynb\" target=\"_parent\"><img src=\"https://colab.research.google.com/assets/colab-badge.svg\" alt=\"Open In Colab\"/></a>"
      ]
    },
    {
      "cell_type": "markdown",
      "source": [
        "- Importação da biblioteca math para a utilzação do log na base 2"
      ],
      "metadata": {
        "id": "CtpVjJH-ol5J"
      }
    },
    {
      "cell_type": "code",
      "source": [
        "from math import log2"
      ],
      "metadata": {
        "id": "aO7VxtpTX9pp"
      },
      "execution_count": 85,
      "outputs": []
    },
    {
      "cell_type": "code",
      "execution_count": 118,
      "metadata": {
        "colab": {
          "base_uri": "https://localhost:8080/"
        },
        "id": "ZVIo9W4fS4Po",
        "outputId": "bf6eeaf1-77fa-4184-9712-c6b4ee4d3767"
      },
      "outputs": [
        {
          "output_type": "stream",
          "name": "stdout",
          "text": [
            "ARARAQUARA:  1.69\n",
            "UNIPAMPA:  2.50\n",
            "ALEGRETE:  2.41\n"
          ]
        }
      ],
      "source": [
        "def calculator_entropy(word):\n",
        "  entropy = 0.0\n",
        "  word_length = len(word)\n",
        "  letter_counts = {}\n",
        "  for letter in word:\n",
        "    letter_counts[letter] = word.count(letter)\n",
        "\n",
        "  for letter in letter_counts:\n",
        "    rel_freq = letter_counts[letter] / word_length\n",
        "    if rel_freq > 0:\n",
        "      entropy += -rel_freq * log2(rel_freq)\n",
        "\n",
        "  return entropy\n",
        "\n",
        "result1 = calculator_entropy('ARARAQUARA')\n",
        "result2 = calculator_entropy('UNIPAMPA')\n",
        "result3 = calculator_entropy('ALEGRETE')\n",
        "\n",
        "print(f'ARARAQUARA: {result1: .2f}')\n",
        "print(f'UNIPAMPA: {result2: .2f}')\n",
        "print(f'ALEGRETE: {result3: .2f}')"
      ]
    },
    {
      "cell_type": "markdown",
      "source": [
        "- A que possui maior entropia é a palavra UNIPAMPA com 2.50 e é a mais complexa também porque \"UNIPAMPA\" tem uma combinação de letras mais variadas e apenas com uma repetição letra \"P\"."
      ],
      "metadata": {
        "id": "UtQg_fRorlRR"
      }
    }
  ]
}